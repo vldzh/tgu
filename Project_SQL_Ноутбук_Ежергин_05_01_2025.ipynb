{
 "cells": [
  {
   "cell_type": "markdown",
   "id": "42289889-bd57-434e-9637-d3e354756316",
   "metadata": {
    "id": "42289889-bd57-434e-9637-d3e354756316"
   },
   "source": [
    "<center> <img src = https://raw.githubusercontent.com/AndreyRysistov/DatasetsForPandas/main/hh%20label.jpg alt=\"drawing\" style=\"width:400px;\">"
   ]
  },
  {
   "cell_type": "markdown",
   "id": "829cb75b-f14e-4ba8-9195-7ba929a7d656",
   "metadata": {
    "id": "829cb75b-f14e-4ba8-9195-7ba929a7d656",
    "tags": []
   },
   "source": [
    "# Проект «Анализ вакансий из HeadHunter»\n",
    "   "
   ]
  },
  {
   "cell_type": "code",
   "execution_count": 3,
   "id": "dccfde33-2452-43fb-a8a5-5c6ebc02a71d",
   "metadata": {
    "id": "dccfde33-2452-43fb-a8a5-5c6ebc02a71d"
   },
   "outputs": [],
   "source": [
    "import pandas as pd\n",
    "import psycopg2\n",
    "import warnings\n",
    "warnings.filterwarnings(\"ignore\")"
   ]
  },
  {
   "cell_type": "code",
   "execution_count": 4,
   "id": "oVKH4ehvf8Ay",
   "metadata": {
    "id": "oVKH4ehvf8Ay"
   },
   "outputs": [],
   "source": [
    "# вставьте сюда параметры подключения из юнита 1. Работа с базой данных из Python\n",
    "DBNAME = ''\n",
    "USER = ''\n",
    "PASSWORD = ''\n",
    "HOST = ''\n",
    "PORT = 5432"
   ]
  },
  {
   "cell_type": "code",
   "execution_count": 5,
   "id": "G4X_q8KBf7SF",
   "metadata": {
    "id": "G4X_q8KBf7SF"
   },
   "outputs": [],
   "source": [
    "connection = psycopg2.connect(\n",
    "    dbname=DBNAME,\n",
    "    user=USER,\n",
    "    host=HOST,\n",
    "    password=PASSWORD,\n",
    "    port=PORT\n",
    ")"
   ]
  },
  {
   "cell_type": "markdown",
   "id": "0dc6476b-7a00-44f1-ac93-6e3baed33a29",
   "metadata": {
    "id": "0dc6476b-7a00-44f1-ac93-6e3baed33a29"
   },
   "source": [
    "## 3. Предварительный анализ данных"
   ]
  },
  {
   "cell_type": "markdown",
   "id": "889782b6-8d1c-410e-8920-e57f27917c64",
   "metadata": {
    "id": "889782b6-8d1c-410e-8920-e57f27917c64"
   },
   "source": [
    "1. Напишите запрос, который посчитает количество вакансий в базе (вакансии находятся в таблице `vacancies`)."
   ]
  },
  {
   "cell_type": "code",
   "execution_count": 8,
   "id": "bc39e68e-ed02-4ee2-9235-7258a2f867a8",
   "metadata": {
    "id": "bc39e68e-ed02-4ee2-9235-7258a2f867a8"
   },
   "outputs": [],
   "source": [
    "# текст запроса\n",
    "query_3_1 = f'''\n",
    "SELECT COUNT(*) FROM vacancies;\n",
    "'''\n",
    "\n",
    "df_3_1 = pd.read_sql_query(query_3_1, connection)"
   ]
  },
  {
   "cell_type": "code",
   "execution_count": 9,
   "id": "7mAwtsk4hEHY",
   "metadata": {
    "id": "7mAwtsk4hEHY"
   },
   "outputs": [
    {
     "data": {
      "text/html": [
       "<div>\n",
       "<style scoped>\n",
       "    .dataframe tbody tr th:only-of-type {\n",
       "        vertical-align: middle;\n",
       "    }\n",
       "\n",
       "    .dataframe tbody tr th {\n",
       "        vertical-align: top;\n",
       "    }\n",
       "\n",
       "    .dataframe thead th {\n",
       "        text-align: right;\n",
       "    }\n",
       "</style>\n",
       "<table border=\"1\" class=\"dataframe\">\n",
       "  <thead>\n",
       "    <tr style=\"text-align: right;\">\n",
       "      <th></th>\n",
       "      <th>count</th>\n",
       "    </tr>\n",
       "  </thead>\n",
       "  <tbody>\n",
       "    <tr>\n",
       "      <th>0</th>\n",
       "      <td>49197</td>\n",
       "    </tr>\n",
       "  </tbody>\n",
       "</table>\n",
       "</div>"
      ],
      "text/plain": [
       "   count\n",
       "0  49197"
      ]
     },
     "execution_count": 9,
     "metadata": {},
     "output_type": "execute_result"
    }
   ],
   "source": [
    "# результат запроса\n",
    "df_3_1"
   ]
  },
  {
   "cell_type": "markdown",
   "id": "b583485d-1f9e-494e-ada4-80ffff7c53d6",
   "metadata": {
    "id": "b583485d-1f9e-494e-ada4-80ffff7c53d6"
   },
   "source": [
    "2. Напишите запрос, который посчитает количество работодателей (таблица `employers`)."
   ]
  },
  {
   "cell_type": "code",
   "execution_count": 11,
   "id": "5408c52c-3407-4a63-b25b-1aafa2322d28",
   "metadata": {
    "id": "5408c52c-3407-4a63-b25b-1aafa2322d28"
   },
   "outputs": [],
   "source": [
    "# текст запроса\n",
    "query_3_2 = f'''\n",
    "SELECT COUNT(*) FROM employers;\n",
    "'''\n",
    "\n",
    "df_3_2 = pd.read_sql_query(query_3_2, connection)"
   ]
  },
  {
   "cell_type": "code",
   "execution_count": 12,
   "id": "jVL4eshKhdqc",
   "metadata": {
    "id": "jVL4eshKhdqc"
   },
   "outputs": [
    {
     "data": {
      "text/html": [
       "<div>\n",
       "<style scoped>\n",
       "    .dataframe tbody tr th:only-of-type {\n",
       "        vertical-align: middle;\n",
       "    }\n",
       "\n",
       "    .dataframe tbody tr th {\n",
       "        vertical-align: top;\n",
       "    }\n",
       "\n",
       "    .dataframe thead th {\n",
       "        text-align: right;\n",
       "    }\n",
       "</style>\n",
       "<table border=\"1\" class=\"dataframe\">\n",
       "  <thead>\n",
       "    <tr style=\"text-align: right;\">\n",
       "      <th></th>\n",
       "      <th>count</th>\n",
       "    </tr>\n",
       "  </thead>\n",
       "  <tbody>\n",
       "    <tr>\n",
       "      <th>0</th>\n",
       "      <td>23501</td>\n",
       "    </tr>\n",
       "  </tbody>\n",
       "</table>\n",
       "</div>"
      ],
      "text/plain": [
       "   count\n",
       "0  23501"
      ]
     },
     "execution_count": 12,
     "metadata": {},
     "output_type": "execute_result"
    }
   ],
   "source": [
    "# результат запроса\n",
    "df_3_2 "
   ]
  },
  {
   "cell_type": "markdown",
   "id": "a2bfff1f-c975-4bf6-84be-2185d79dcb76",
   "metadata": {
    "id": "a2bfff1f-c975-4bf6-84be-2185d79dcb76"
   },
   "source": [
    "3. Посчитайте с помощью запроса количество регионов (таблица `areas`)."
   ]
  },
  {
   "cell_type": "code",
   "execution_count": 14,
   "id": "1m8QJwBYhey6",
   "metadata": {
    "id": "1m8QJwBYhey6"
   },
   "outputs": [],
   "source": [
    "# текст запроса\n",
    "query_3_3 = f'''\n",
    "SELECT COUNT(*) FROM areas;\n",
    "'''\n",
    "\n",
    "df_3_3 = pd.read_sql_query(query_3_3, connection)"
   ]
  },
  {
   "cell_type": "code",
   "execution_count": 15,
   "id": "EZsn9tlfhe7f",
   "metadata": {
    "id": "EZsn9tlfhe7f"
   },
   "outputs": [
    {
     "data": {
      "text/html": [
       "<div>\n",
       "<style scoped>\n",
       "    .dataframe tbody tr th:only-of-type {\n",
       "        vertical-align: middle;\n",
       "    }\n",
       "\n",
       "    .dataframe tbody tr th {\n",
       "        vertical-align: top;\n",
       "    }\n",
       "\n",
       "    .dataframe thead th {\n",
       "        text-align: right;\n",
       "    }\n",
       "</style>\n",
       "<table border=\"1\" class=\"dataframe\">\n",
       "  <thead>\n",
       "    <tr style=\"text-align: right;\">\n",
       "      <th></th>\n",
       "      <th>count</th>\n",
       "    </tr>\n",
       "  </thead>\n",
       "  <tbody>\n",
       "    <tr>\n",
       "      <th>0</th>\n",
       "      <td>1362</td>\n",
       "    </tr>\n",
       "  </tbody>\n",
       "</table>\n",
       "</div>"
      ],
      "text/plain": [
       "   count\n",
       "0   1362"
      ]
     },
     "execution_count": 15,
     "metadata": {},
     "output_type": "execute_result"
    }
   ],
   "source": [
    "# результат запроса\n",
    "df_3_3"
   ]
  },
  {
   "cell_type": "markdown",
   "id": "41bb59f3-53cc-4a67-a5bc-bedf573955e4",
   "metadata": {
    "id": "41bb59f3-53cc-4a67-a5bc-bedf573955e4"
   },
   "source": [
    "4. Посчитайте с помощью запроса количество сфер деятельности в базе (таблица `industries`)."
   ]
  },
  {
   "cell_type": "code",
   "execution_count": 17,
   "id": "d286cf4c-707b-4cd2-9190-7ab3587d04a1",
   "metadata": {
    "id": "d286cf4c-707b-4cd2-9190-7ab3587d04a1"
   },
   "outputs": [],
   "source": [
    "# текст запроса\n",
    "query_3_4 = f'''\n",
    "SELECT COUNT(*) FROM industries;\n",
    "'''\n",
    "\n",
    "df_3_4 = pd.read_sql_query(query_3_4, connection)"
   ]
  },
  {
   "cell_type": "code",
   "execution_count": 18,
   "id": "JYAaoZ4qhfzW",
   "metadata": {
    "id": "JYAaoZ4qhfzW"
   },
   "outputs": [
    {
     "data": {
      "text/html": [
       "<div>\n",
       "<style scoped>\n",
       "    .dataframe tbody tr th:only-of-type {\n",
       "        vertical-align: middle;\n",
       "    }\n",
       "\n",
       "    .dataframe tbody tr th {\n",
       "        vertical-align: top;\n",
       "    }\n",
       "\n",
       "    .dataframe thead th {\n",
       "        text-align: right;\n",
       "    }\n",
       "</style>\n",
       "<table border=\"1\" class=\"dataframe\">\n",
       "  <thead>\n",
       "    <tr style=\"text-align: right;\">\n",
       "      <th></th>\n",
       "      <th>count</th>\n",
       "    </tr>\n",
       "  </thead>\n",
       "  <tbody>\n",
       "    <tr>\n",
       "      <th>0</th>\n",
       "      <td>294</td>\n",
       "    </tr>\n",
       "  </tbody>\n",
       "</table>\n",
       "</div>"
      ],
      "text/plain": [
       "   count\n",
       "0    294"
      ]
     },
     "execution_count": 18,
     "metadata": {},
     "output_type": "execute_result"
    }
   ],
   "source": [
    "# результат запроса\n",
    "df_3_4"
   ]
  },
  {
   "cell_type": "markdown",
   "id": "ed4de9ce",
   "metadata": {},
   "source": [
    "***"
   ]
  },
  {
   "cell_type": "markdown",
   "id": "5c831728-1169-4292-9741-500aa813df4f",
   "metadata": {
    "id": "be4e9bd3-a4db-4a20-82fb-6b02fc2957e0"
   },
   "source": [
    "### Выводы по предварительному анализу данных\n",
    "количество вакансий : 49197\n",
    "\n",
    "количество работодателей : 23501\n",
    "\n",
    "количество регионов : 1362\n",
    "\n",
    "количество сфер деятельности : 294"
   ]
  },
  {
   "cell_type": "markdown",
   "id": "8d62a9f3-f64e-4fe7-bdac-c4dffa16155e",
   "metadata": {
    "id": "8d62a9f3-f64e-4fe7-bdac-c4dffa16155e"
   },
   "source": [
    "## 4. Детальный анализ вакансий"
   ]
  },
  {
   "cell_type": "markdown",
   "id": "93053d3d-b284-481a-9cf7-012d7014c0e0",
   "metadata": {
    "id": "93053d3d-b284-481a-9cf7-012d7014c0e0"
   },
   "source": [
    "1. Напишите запрос, который позволит узнать, сколько (`cnt`) вакансий в каждом регионе (`area`).\n",
    "Отсортируйте по количеству вакансий в порядке убывания."
   ]
  },
  {
   "cell_type": "code",
   "execution_count": 23,
   "id": "3f069da6-fdc9-4ae7-b514-fafe2675efd3",
   "metadata": {
    "id": "3f069da6-fdc9-4ae7-b514-fafe2675efd3"
   },
   "outputs": [],
   "source": [
    "# текст запроса\n",
    "query_4_1 = f'''\n",
    "SELECT a.name AS area, COUNT(*) as cnt\n",
    "FROM vacancies v\n",
    "JOIN areas a ON v.area_id = a.id    -- Соединение таблиц vacancies и areas по полю area_id\n",
    "GROUP BY a.name  -- Соединение таблиц vacancies и areas по полю area_id\n",
    "ORDER BY cnt DESC;  -- Сортировка по убыванию количества вакансий\n",
    "'''\n",
    "\n",
    "df_4_1 = pd.read_sql_query(query_4_1, connection)\n"
   ]
  },
  {
   "cell_type": "code",
   "execution_count": 24,
   "id": "P7QL86hrjhRJ",
   "metadata": {
    "id": "P7QL86hrjhRJ"
   },
   "outputs": [
    {
     "data": {
      "text/html": [
       "<div>\n",
       "<style scoped>\n",
       "    .dataframe tbody tr th:only-of-type {\n",
       "        vertical-align: middle;\n",
       "    }\n",
       "\n",
       "    .dataframe tbody tr th {\n",
       "        vertical-align: top;\n",
       "    }\n",
       "\n",
       "    .dataframe thead th {\n",
       "        text-align: right;\n",
       "    }\n",
       "</style>\n",
       "<table border=\"1\" class=\"dataframe\">\n",
       "  <thead>\n",
       "    <tr style=\"text-align: right;\">\n",
       "      <th></th>\n",
       "      <th>area</th>\n",
       "      <th>cnt</th>\n",
       "    </tr>\n",
       "  </thead>\n",
       "  <tbody>\n",
       "    <tr>\n",
       "      <th>0</th>\n",
       "      <td>Москва</td>\n",
       "      <td>5333</td>\n",
       "    </tr>\n",
       "    <tr>\n",
       "      <th>1</th>\n",
       "      <td>Санкт-Петербург</td>\n",
       "      <td>2851</td>\n",
       "    </tr>\n",
       "    <tr>\n",
       "      <th>2</th>\n",
       "      <td>Минск</td>\n",
       "      <td>2112</td>\n",
       "    </tr>\n",
       "    <tr>\n",
       "      <th>3</th>\n",
       "      <td>Новосибирск</td>\n",
       "      <td>2006</td>\n",
       "    </tr>\n",
       "    <tr>\n",
       "      <th>4</th>\n",
       "      <td>Алматы</td>\n",
       "      <td>1892</td>\n",
       "    </tr>\n",
       "    <tr>\n",
       "      <th>...</th>\n",
       "      <td>...</td>\n",
       "      <td>...</td>\n",
       "    </tr>\n",
       "    <tr>\n",
       "      <th>764</th>\n",
       "      <td>Тарко-Сале</td>\n",
       "      <td>1</td>\n",
       "    </tr>\n",
       "    <tr>\n",
       "      <th>765</th>\n",
       "      <td>Новоаннинский</td>\n",
       "      <td>1</td>\n",
       "    </tr>\n",
       "    <tr>\n",
       "      <th>766</th>\n",
       "      <td>Бирск</td>\n",
       "      <td>1</td>\n",
       "    </tr>\n",
       "    <tr>\n",
       "      <th>767</th>\n",
       "      <td>Сасово</td>\n",
       "      <td>1</td>\n",
       "    </tr>\n",
       "    <tr>\n",
       "      <th>768</th>\n",
       "      <td>Анна</td>\n",
       "      <td>1</td>\n",
       "    </tr>\n",
       "  </tbody>\n",
       "</table>\n",
       "<p>769 rows × 2 columns</p>\n",
       "</div>"
      ],
      "text/plain": [
       "                area   cnt\n",
       "0             Москва  5333\n",
       "1    Санкт-Петербург  2851\n",
       "2              Минск  2112\n",
       "3        Новосибирск  2006\n",
       "4             Алматы  1892\n",
       "..               ...   ...\n",
       "764       Тарко-Сале     1\n",
       "765    Новоаннинский     1\n",
       "766            Бирск     1\n",
       "767           Сасово     1\n",
       "768             Анна     1\n",
       "\n",
       "[769 rows x 2 columns]"
      ]
     },
     "execution_count": 24,
     "metadata": {},
     "output_type": "execute_result"
    }
   ],
   "source": [
    "# результат запроса\n",
    "df_4_1"
   ]
  },
  {
   "cell_type": "markdown",
   "id": "4266f0b6-1646-492a-88b4-2f6a46502135",
   "metadata": {
    "id": "4266f0b6-1646-492a-88b4-2f6a46502135"
   },
   "source": [
    "2. Напишите запрос, чтобы определить у какого количества вакансий заполнено хотя бы одно из двух полей с зарплатой."
   ]
  },
  {
   "cell_type": "code",
   "execution_count": 26,
   "id": "0c44b350-72eb-4d65-8b54-a1fc449ba9fd",
   "metadata": {
    "id": "0c44b350-72eb-4d65-8b54-a1fc449ba9fd"
   },
   "outputs": [],
   "source": [
    "# текст запроса\n",
    "query_4_2 = f'''\n",
    "SELECT COUNT(*)\n",
    "FROM vacancies\n",
    "/* Условия фильтрации: хотя бы одно поле - с минимальнаой зарплата, либо с максимальной зарплатой должна быть не равна NULL */\n",
    "WHERE salary_from IS NOT NULL OR salary_to IS NOT NULL; \n",
    "'''\n",
    "\n",
    "df_4_2 = pd.read_sql_query(query_4_2, connection)"
   ]
  },
  {
   "cell_type": "code",
   "execution_count": 27,
   "id": "rhvwaMDkoWTi",
   "metadata": {
    "id": "rhvwaMDkoWTi"
   },
   "outputs": [
    {
     "data": {
      "text/html": [
       "<div>\n",
       "<style scoped>\n",
       "    .dataframe tbody tr th:only-of-type {\n",
       "        vertical-align: middle;\n",
       "    }\n",
       "\n",
       "    .dataframe tbody tr th {\n",
       "        vertical-align: top;\n",
       "    }\n",
       "\n",
       "    .dataframe thead th {\n",
       "        text-align: right;\n",
       "    }\n",
       "</style>\n",
       "<table border=\"1\" class=\"dataframe\">\n",
       "  <thead>\n",
       "    <tr style=\"text-align: right;\">\n",
       "      <th></th>\n",
       "      <th>count</th>\n",
       "    </tr>\n",
       "  </thead>\n",
       "  <tbody>\n",
       "    <tr>\n",
       "      <th>0</th>\n",
       "      <td>24073</td>\n",
       "    </tr>\n",
       "  </tbody>\n",
       "</table>\n",
       "</div>"
      ],
      "text/plain": [
       "   count\n",
       "0  24073"
      ]
     },
     "execution_count": 27,
     "metadata": {},
     "output_type": "execute_result"
    }
   ],
   "source": [
    "# результат запроса\n",
    "df_4_2"
   ]
  },
  {
   "cell_type": "markdown",
   "id": "635c4d5d-f323-4c66-b428-50a088120aa0",
   "metadata": {
    "id": "635c4d5d-f323-4c66-b428-50a088120aa0"
   },
   "source": [
    "3. Найдите средние значения для нижней и верхней границы зарплатной вилки. Округлите значения до **целого числа**."
   ]
  },
  {
   "cell_type": "code",
   "execution_count": 29,
   "id": "603cdbe4-0ec3-4106-8eaf-c73fcdd29165",
   "metadata": {
    "id": "603cdbe4-0ec3-4106-8eaf-c73fcdd29165"
   },
   "outputs": [],
   "source": [
    "# текст запроса\n",
    "query_4_3 = f'''\n",
    "SELECT \n",
    "    ROUND(AVG(salary_from)) AS avg_min_salary,  -- Среднее значение минимальной зарплаты, округленное до целого числа\n",
    "    ROUND(AVG(salary_to)) AS avg_max_salary  -- Среднее значение максимальной зарплаты, округленное до целого числа\n",
    "FROM vacancies;\n",
    "'''\n",
    "\n",
    "df_4_3 = pd.read_sql_query(query_4_3, connection)\n"
   ]
  },
  {
   "cell_type": "code",
   "execution_count": 30,
   "id": "pswpAb66ovZZ",
   "metadata": {
    "id": "pswpAb66ovZZ"
   },
   "outputs": [
    {
     "data": {
      "text/html": [
       "<div>\n",
       "<style scoped>\n",
       "    .dataframe tbody tr th:only-of-type {\n",
       "        vertical-align: middle;\n",
       "    }\n",
       "\n",
       "    .dataframe tbody tr th {\n",
       "        vertical-align: top;\n",
       "    }\n",
       "\n",
       "    .dataframe thead th {\n",
       "        text-align: right;\n",
       "    }\n",
       "</style>\n",
       "<table border=\"1\" class=\"dataframe\">\n",
       "  <thead>\n",
       "    <tr style=\"text-align: right;\">\n",
       "      <th></th>\n",
       "      <th>avg_min_salary</th>\n",
       "      <th>avg_max_salary</th>\n",
       "    </tr>\n",
       "  </thead>\n",
       "  <tbody>\n",
       "    <tr>\n",
       "      <th>0</th>\n",
       "      <td>71065.0</td>\n",
       "      <td>110537.0</td>\n",
       "    </tr>\n",
       "  </tbody>\n",
       "</table>\n",
       "</div>"
      ],
      "text/plain": [
       "   avg_min_salary  avg_max_salary\n",
       "0         71065.0        110537.0"
      ]
     },
     "execution_count": 30,
     "metadata": {},
     "output_type": "execute_result"
    }
   ],
   "source": [
    "# результат запроса\n",
    "df_4_3"
   ]
  },
  {
   "cell_type": "markdown",
   "id": "f3fdaec9-5fd3-4260-9cf5-1d7406b628a5",
   "metadata": {
    "id": "f3fdaec9-5fd3-4260-9cf5-1d7406b628a5"
   },
   "source": [
    "4. Напишите запрос, который выведет количество вакансий для каждого сочетания типа рабочего графика (`schedule`) и типа трудоустройства (`employment`), используемого в вакансиях. Результат отсортируйте по убыванию количества.\n"
   ]
  },
  {
   "cell_type": "code",
   "execution_count": 32,
   "id": "1ea710ec-871b-431e-9462-c7d0fd87011b",
   "metadata": {
    "id": "1ea710ec-871b-431e-9462-c7d0fd87011b"
   },
   "outputs": [],
   "source": [
    "# текст запроса\n",
    "query_4_4 = f'''\n",
    "SELECT \n",
    "    schedule, -- Графики работы      \n",
    "    employment, -- Формы занятости     \n",
    "    COUNT(*) AS count -- Количество вакансий\n",
    "FROM vacancies\n",
    "GROUP BY schedule, employment  -- группирвока по  сочетания графика работы и формы занятости\n",
    "ORDER BY count DESC;  -- Сортировка по убыванию количества вакансий\n",
    "'''\n",
    "\n",
    "df_4_4 = pd.read_sql_query(query_4_4, connection)"
   ]
  },
  {
   "cell_type": "code",
   "execution_count": 33,
   "id": "lGUVqavdo4JQ",
   "metadata": {
    "id": "lGUVqavdo4JQ"
   },
   "outputs": [
    {
     "data": {
      "text/html": [
       "<div>\n",
       "<style scoped>\n",
       "    .dataframe tbody tr th:only-of-type {\n",
       "        vertical-align: middle;\n",
       "    }\n",
       "\n",
       "    .dataframe tbody tr th {\n",
       "        vertical-align: top;\n",
       "    }\n",
       "\n",
       "    .dataframe thead th {\n",
       "        text-align: right;\n",
       "    }\n",
       "</style>\n",
       "<table border=\"1\" class=\"dataframe\">\n",
       "  <thead>\n",
       "    <tr style=\"text-align: right;\">\n",
       "      <th></th>\n",
       "      <th>schedule</th>\n",
       "      <th>employment</th>\n",
       "      <th>count</th>\n",
       "    </tr>\n",
       "  </thead>\n",
       "  <tbody>\n",
       "    <tr>\n",
       "      <th>0</th>\n",
       "      <td>Полный день</td>\n",
       "      <td>Полная занятость</td>\n",
       "      <td>35367</td>\n",
       "    </tr>\n",
       "    <tr>\n",
       "      <th>1</th>\n",
       "      <td>Удаленная работа</td>\n",
       "      <td>Полная занятость</td>\n",
       "      <td>7802</td>\n",
       "    </tr>\n",
       "    <tr>\n",
       "      <th>2</th>\n",
       "      <td>Гибкий график</td>\n",
       "      <td>Полная занятость</td>\n",
       "      <td>1593</td>\n",
       "    </tr>\n",
       "    <tr>\n",
       "      <th>3</th>\n",
       "      <td>Удаленная работа</td>\n",
       "      <td>Частичная занятость</td>\n",
       "      <td>1312</td>\n",
       "    </tr>\n",
       "    <tr>\n",
       "      <th>4</th>\n",
       "      <td>Сменный график</td>\n",
       "      <td>Полная занятость</td>\n",
       "      <td>940</td>\n",
       "    </tr>\n",
       "    <tr>\n",
       "      <th>5</th>\n",
       "      <td>Полный день</td>\n",
       "      <td>Стажировка</td>\n",
       "      <td>569</td>\n",
       "    </tr>\n",
       "    <tr>\n",
       "      <th>6</th>\n",
       "      <td>Вахтовый метод</td>\n",
       "      <td>Полная занятость</td>\n",
       "      <td>367</td>\n",
       "    </tr>\n",
       "    <tr>\n",
       "      <th>7</th>\n",
       "      <td>Полный день</td>\n",
       "      <td>Частичная занятость</td>\n",
       "      <td>347</td>\n",
       "    </tr>\n",
       "    <tr>\n",
       "      <th>8</th>\n",
       "      <td>Гибкий график</td>\n",
       "      <td>Частичная занятость</td>\n",
       "      <td>312</td>\n",
       "    </tr>\n",
       "    <tr>\n",
       "      <th>9</th>\n",
       "      <td>Полный день</td>\n",
       "      <td>Проектная работа</td>\n",
       "      <td>141</td>\n",
       "    </tr>\n",
       "    <tr>\n",
       "      <th>10</th>\n",
       "      <td>Удаленная работа</td>\n",
       "      <td>Проектная работа</td>\n",
       "      <td>133</td>\n",
       "    </tr>\n",
       "    <tr>\n",
       "      <th>11</th>\n",
       "      <td>Гибкий график</td>\n",
       "      <td>Стажировка</td>\n",
       "      <td>116</td>\n",
       "    </tr>\n",
       "    <tr>\n",
       "      <th>12</th>\n",
       "      <td>Сменный график</td>\n",
       "      <td>Частичная занятость</td>\n",
       "      <td>101</td>\n",
       "    </tr>\n",
       "    <tr>\n",
       "      <th>13</th>\n",
       "      <td>Удаленная работа</td>\n",
       "      <td>Стажировка</td>\n",
       "      <td>64</td>\n",
       "    </tr>\n",
       "    <tr>\n",
       "      <th>14</th>\n",
       "      <td>Гибкий график</td>\n",
       "      <td>Проектная работа</td>\n",
       "      <td>18</td>\n",
       "    </tr>\n",
       "    <tr>\n",
       "      <th>15</th>\n",
       "      <td>Сменный график</td>\n",
       "      <td>Стажировка</td>\n",
       "      <td>12</td>\n",
       "    </tr>\n",
       "    <tr>\n",
       "      <th>16</th>\n",
       "      <td>Вахтовый метод</td>\n",
       "      <td>Проектная работа</td>\n",
       "      <td>2</td>\n",
       "    </tr>\n",
       "    <tr>\n",
       "      <th>17</th>\n",
       "      <td>Сменный график</td>\n",
       "      <td>Проектная работа</td>\n",
       "      <td>1</td>\n",
       "    </tr>\n",
       "  </tbody>\n",
       "</table>\n",
       "</div>"
      ],
      "text/plain": [
       "            schedule           employment  count\n",
       "0        Полный день     Полная занятость  35367\n",
       "1   Удаленная работа     Полная занятость   7802\n",
       "2      Гибкий график     Полная занятость   1593\n",
       "3   Удаленная работа  Частичная занятость   1312\n",
       "4     Сменный график     Полная занятость    940\n",
       "5        Полный день           Стажировка    569\n",
       "6     Вахтовый метод     Полная занятость    367\n",
       "7        Полный день  Частичная занятость    347\n",
       "8      Гибкий график  Частичная занятость    312\n",
       "9        Полный день     Проектная работа    141\n",
       "10  Удаленная работа     Проектная работа    133\n",
       "11     Гибкий график           Стажировка    116\n",
       "12    Сменный график  Частичная занятость    101\n",
       "13  Удаленная работа           Стажировка     64\n",
       "14     Гибкий график     Проектная работа     18\n",
       "15    Сменный график           Стажировка     12\n",
       "16    Вахтовый метод     Проектная работа      2\n",
       "17    Сменный график     Проектная работа      1"
      ]
     },
     "execution_count": 33,
     "metadata": {},
     "output_type": "execute_result"
    }
   ],
   "source": [
    "# результат запроса\n",
    "df_4_4"
   ]
  },
  {
   "cell_type": "markdown",
   "id": "0136ffee-0ead-4a6b-b608-61d1c753a438",
   "metadata": {
    "id": "0136ffee-0ead-4a6b-b608-61d1c753a438"
   },
   "source": [
    "5. Напишите запрос, выводящий значения поля «Требуемый опыт работы» (`experience`) в порядке возрастания количества вакансий, в которых указан данный вариант опыта."
   ]
  },
  {
   "cell_type": "code",
   "execution_count": 35,
   "id": "5b3a8e79-f7ab-4008-b767-12aea3a205ea",
   "metadata": {
    "id": "5b3a8e79-f7ab-4008-b767-12aea3a205ea"
   },
   "outputs": [],
   "source": [
    "# текст запроса\n",
    "query_4_5 = f'''\n",
    "SELECT \n",
    "    experience,     -- Уровень опыта работы\n",
    "    COUNT(*) AS cnt -- Количество вакансий для каждого уровня опыта\n",
    "FROM vacancies\n",
    "GROUP BY experience -- Группировка по уровню опыта\n",
    "ORDER BY cnt ASC;  -- Сортировка по возрастанию количества вакансий\n",
    "'''\n",
    "\n",
    "df_4_5 = pd.read_sql_query(query_4_5, connection)"
   ]
  },
  {
   "cell_type": "code",
   "execution_count": 36,
   "id": "3Is64Y-hpDpq",
   "metadata": {
    "id": "3Is64Y-hpDpq"
   },
   "outputs": [
    {
     "data": {
      "text/html": [
       "<div>\n",
       "<style scoped>\n",
       "    .dataframe tbody tr th:only-of-type {\n",
       "        vertical-align: middle;\n",
       "    }\n",
       "\n",
       "    .dataframe tbody tr th {\n",
       "        vertical-align: top;\n",
       "    }\n",
       "\n",
       "    .dataframe thead th {\n",
       "        text-align: right;\n",
       "    }\n",
       "</style>\n",
       "<table border=\"1\" class=\"dataframe\">\n",
       "  <thead>\n",
       "    <tr style=\"text-align: right;\">\n",
       "      <th></th>\n",
       "      <th>experience</th>\n",
       "      <th>cnt</th>\n",
       "    </tr>\n",
       "  </thead>\n",
       "  <tbody>\n",
       "    <tr>\n",
       "      <th>0</th>\n",
       "      <td>Более 6 лет</td>\n",
       "      <td>1337</td>\n",
       "    </tr>\n",
       "    <tr>\n",
       "      <th>1</th>\n",
       "      <td>Нет опыта</td>\n",
       "      <td>7197</td>\n",
       "    </tr>\n",
       "    <tr>\n",
       "      <th>2</th>\n",
       "      <td>От 3 до 6 лет</td>\n",
       "      <td>14511</td>\n",
       "    </tr>\n",
       "    <tr>\n",
       "      <th>3</th>\n",
       "      <td>От 1 года до 3 лет</td>\n",
       "      <td>26152</td>\n",
       "    </tr>\n",
       "  </tbody>\n",
       "</table>\n",
       "</div>"
      ],
      "text/plain": [
       "           experience    cnt\n",
       "0         Более 6 лет   1337\n",
       "1           Нет опыта   7197\n",
       "2       От 3 до 6 лет  14511\n",
       "3  От 1 года до 3 лет  26152"
      ]
     },
     "execution_count": 36,
     "metadata": {},
     "output_type": "execute_result"
    }
   ],
   "source": [
    "# результат запроса\n",
    "df_4_5"
   ]
  },
  {
   "cell_type": "markdown",
   "id": "oq2b7n1QpIka",
   "metadata": {
    "id": "oq2b7n1QpIka"
   },
   "source": [
    "***"
   ]
  },
  {
   "cell_type": "markdown",
   "id": "f8959743-ba44-4d19-9b20-85713516d494",
   "metadata": {
    "id": "e91f87ed-e25c-4f96-9f92-b642e8c0b4fa"
   },
   "source": [
    "### Выводы по детальному анализу вакансий\n",
    "В результате анализа мы узнали, что:\n",
    "1) Пятёрка лидеров по количеству вакансий: Москва, Санкт-Петербург, Минск, Новосибирск, Алматы\n",
    "2) Заполнено хотя бы одно из двух полей с зарплатой у 24073 вакансий\n",
    "3) Нижняя граница зарплатной вилки: 71065  , верхняя граница зарплатной вилки: 110537\n",
    "4) Наиболее популярные сочетания типа рабочего графика (schedule) и типа трудоустройства (employment):\n",
    "Полный день + Полная занятость - 35367, Удаленная работа + Полная занятость  - 7802,\n",
    "Гибкий график + Полная занятость - 1593, Удаленная работа + Частичная занятость - 1312, Сменный график + Полная занятость - 940\n",
    "5) Требуемый опыт работы, в порядке возрастания количества вакансий, в которых указан данный вариант опыта выглядит следующим образом:\n",
    "     *       Более 6 лет        1337\n",
    "     *         Нет опыта        7197\n",
    "     *      От 3 до 6 лет       14511\n",
    "     *      От 1 года до 3 лет  26152"
   ]
  },
  {
   "cell_type": "markdown",
   "id": "7ea20ab6-04a7-40a0-adec-443a0e5a42c3",
   "metadata": {
    "id": "7ea20ab6-04a7-40a0-adec-443a0e5a42c3"
   },
   "source": [
    "## 5. Анализ работодателей"
   ]
  },
  {
   "cell_type": "markdown",
   "id": "968aed80-74ef-4ffb-b5bf-c65b84e9caea",
   "metadata": {
    "id": "968aed80-74ef-4ffb-b5bf-c65b84e9caea"
   },
   "source": [
    "1. Напишите запрос, который позволит узнать, какие работодатели находятся на первом и пятом месте по количеству вакансий."
   ]
  },
  {
   "cell_type": "code",
   "execution_count": 41,
   "id": "f2d62796-d400-4ec1-a675-88112739a50e",
   "metadata": {
    "id": "f2d62796-d400-4ec1-a675-88112739a50e"
   },
   "outputs": [],
   "source": [
    "# текст запроса\n",
    "query_5_1 = f'''\n",
    "SELECT \n",
    "    employers.id, -- Идентификатор работодателя\n",
    "    employers.name, -- Имя работодателя\n",
    "    COUNT(vacancies.id) AS num_vacancies -- Количество вакансий для данного работодателя\n",
    "FROM employers\n",
    "JOIN vacancies ON employers.id = vacancies.employer_id\n",
    "GROUP BY employers.id, employers.name\n",
    "ORDER BY num_vacancies DESC; -- Сортировка по убыванию количества вакансий\n",
    "     '''\n",
    "\n",
    "df_5_1 = pd.read_sql_query(query_5_1, connection)\n",
    "    "
   ]
  },
  {
   "cell_type": "code",
   "execution_count": 42,
   "id": "64tOMkAxqkQk",
   "metadata": {
    "id": "64tOMkAxqkQk"
   },
   "outputs": [
    {
     "data": {
      "text/html": [
       "<div>\n",
       "<style scoped>\n",
       "    .dataframe tbody tr th:only-of-type {\n",
       "        vertical-align: middle;\n",
       "    }\n",
       "\n",
       "    .dataframe tbody tr th {\n",
       "        vertical-align: top;\n",
       "    }\n",
       "\n",
       "    .dataframe thead th {\n",
       "        text-align: right;\n",
       "    }\n",
       "</style>\n",
       "<table border=\"1\" class=\"dataframe\">\n",
       "  <thead>\n",
       "    <tr style=\"text-align: right;\">\n",
       "      <th></th>\n",
       "      <th>id</th>\n",
       "      <th>name</th>\n",
       "      <th>num_vacancies</th>\n",
       "    </tr>\n",
       "  </thead>\n",
       "  <tbody>\n",
       "    <tr>\n",
       "      <th>0</th>\n",
       "      <td>1740</td>\n",
       "      <td>Яндекс</td>\n",
       "      <td>1933</td>\n",
       "    </tr>\n",
       "    <tr>\n",
       "      <th>1</th>\n",
       "      <td>2748</td>\n",
       "      <td>Ростелеком</td>\n",
       "      <td>491</td>\n",
       "    </tr>\n",
       "    <tr>\n",
       "      <th>2</th>\n",
       "      <td>78638</td>\n",
       "      <td>Тинькофф</td>\n",
       "      <td>444</td>\n",
       "    </tr>\n",
       "    <tr>\n",
       "      <th>3</th>\n",
       "      <td>3529</td>\n",
       "      <td>СБЕР</td>\n",
       "      <td>428</td>\n",
       "    </tr>\n",
       "    <tr>\n",
       "      <th>4</th>\n",
       "      <td>39305</td>\n",
       "      <td>Газпром нефть</td>\n",
       "      <td>331</td>\n",
       "    </tr>\n",
       "    <tr>\n",
       "      <th>...</th>\n",
       "      <td>...</td>\n",
       "      <td>...</td>\n",
       "      <td>...</td>\n",
       "    </tr>\n",
       "    <tr>\n",
       "      <th>14901</th>\n",
       "      <td>4868743</td>\n",
       "      <td>Евсеев Сергей Владимирович</td>\n",
       "      <td>1</td>\n",
       "    </tr>\n",
       "    <tr>\n",
       "      <th>14902</th>\n",
       "      <td>1620</td>\n",
       "      <td>Кадровые технологии</td>\n",
       "      <td>1</td>\n",
       "    </tr>\n",
       "    <tr>\n",
       "      <th>14903</th>\n",
       "      <td>3253186</td>\n",
       "      <td>ЛОМБАРД 24</td>\n",
       "      <td>1</td>\n",
       "    </tr>\n",
       "    <tr>\n",
       "      <th>14904</th>\n",
       "      <td>592461</td>\n",
       "      <td>Авто-Компонент ТД</td>\n",
       "      <td>1</td>\n",
       "    </tr>\n",
       "    <tr>\n",
       "      <th>14905</th>\n",
       "      <td>1842222</td>\n",
       "      <td>НПП «Старт» им. А.И. Яскина</td>\n",
       "      <td>1</td>\n",
       "    </tr>\n",
       "  </tbody>\n",
       "</table>\n",
       "<p>14906 rows × 3 columns</p>\n",
       "</div>"
      ],
      "text/plain": [
       "            id                         name  num_vacancies\n",
       "0         1740                       Яндекс           1933\n",
       "1         2748                   Ростелеком            491\n",
       "2        78638                     Тинькофф            444\n",
       "3         3529                         СБЕР            428\n",
       "4        39305                Газпром нефть            331\n",
       "...        ...                          ...            ...\n",
       "14901  4868743   Евсеев Сергей Владимирович              1\n",
       "14902     1620          Кадровые технологии              1\n",
       "14903  3253186                   ЛОМБАРД 24              1\n",
       "14904   592461            Авто-Компонент ТД              1\n",
       "14905  1842222  НПП «Старт» им. А.И. Яскина              1\n",
       "\n",
       "[14906 rows x 3 columns]"
      ]
     },
     "execution_count": 42,
     "metadata": {},
     "output_type": "execute_result"
    }
   ],
   "source": [
    "# результат запроса\n",
    "df_5_1\n"
   ]
  },
  {
   "cell_type": "markdown",
   "id": "68377cfc-b378-43dc-ab7d-1195abf2c515",
   "metadata": {
    "id": "68377cfc-b378-43dc-ab7d-1195abf2c515"
   },
   "source": [
    "2. Напишите запрос, который для каждого региона выведет количество работодателей и вакансий в нём.\n",
    "Среди регионов, в которых нет вакансий, найдите тот, в котором наибольшее количество работодателей.\n"
   ]
  },
  {
   "cell_type": "code",
   "execution_count": 44,
   "id": "dd7df27a-e3e8-412e-a21a-5d389b71e891",
   "metadata": {
    "id": "dd7df27a-e3e8-412e-a21a-5d389b71e891"
   },
   "outputs": [],
   "source": [
    "# текст запроса\n",
    "\n",
    "query_5_2_1 = f'''\n",
    "/* Основная часть запроса, выборка названия региона и количества работодателей/вакансий */\n",
    "SELECT a.name AS region_name,\n",
    "    /* Если количество работодателей отсутствует, заменяем его на 0 */\n",
    "    CASE \n",
    "        WHEN ec.employer_count IS NULL \n",
    "            THEN 0 \n",
    "        ELSE \n",
    "            ec.employer_count \n",
    "    END \n",
    "    AS employer_count,\n",
    "    /* Если количество вакансий отсутствует, заменяем его на 0 */\n",
    "    CASE \n",
    "        WHEN vc.vacancy_count IS NULL \n",
    "            THEN 0 \n",
    "        ELSE\n",
    "            vc.vacancy_count \n",
    "    END \n",
    "    AS vacancy_count\n",
    "FROM areas a\n",
    "/* Левое соединение с подзапросом для получения количества работодателей по регионам */\n",
    "LEFT JOIN (\n",
    "    SELECT e.area, COUNT(*) AS employer_count\n",
    "    FROM employers e\n",
    "    GROUP BY e.area\n",
    ") ec ON a.id = ec.area\n",
    "/* Левое соединение с подзапросом для получения количества вакансий по регионам */\n",
    "LEFT JOIN (\n",
    "    SELECT v.area_id, COUNT(*) AS vacancy_count\n",
    "    FROM vacancies v\n",
    "    GROUP BY v.area_id\n",
    ") vc ON a.id = vc.area_id\n",
    "/* Сортировка по убыванию количества работодателей и вакансий */\n",
    "ORDER BY employer_count DESC, vacancy_count DESC;\n",
    "'''\n",
    "\n",
    "df_5_2_1 = pd.read_sql_query(query_5_2_1, connection)\n",
    "\n",
    "\n",
    "query_5_2_2 = f'''\n",
    "-- Запрашиваем названия  регионов и количество работодателей в них\n",
    "SELECT \n",
    "    a.name AS region_name, \n",
    "    ec.employer_count\n",
    "FROM areas a\n",
    "/* Внутренний подзапрос для группировки работодателей по регионам и подсчета их количества */\n",
    "INNER JOIN (\n",
    "    SELECT \n",
    "        e.area, \n",
    "        COUNT(*) AS employer_count\n",
    "    FROM employers e\n",
    "    GROUP BY e.area\n",
    ") ec ON a.id = ec.area\n",
    "-- Левое соединение с таблицей вакансий для проверки наличия вакансий в регионах\n",
    "LEFT JOIN vacancies v ON a.id = v.area_id\n",
    "-- Группировка результатов по названию регион и количеству работодателей\n",
    "GROUP BY a.name, ec.employer_count\n",
    "-- Условие для выбора регионов, в которых нет вакансий\n",
    "HAVING COUNT(v.id) = 0\n",
    "-- Сортировка по убыванию количества работодателей\n",
    "ORDER BY ec.employer_count DESC\n",
    "'''    \n",
    "df_5_2_2 = pd.read_sql_query(query_5_2_2, connection)"
   ]
  },
  {
   "cell_type": "code",
   "execution_count": 45,
   "id": "b15611ec-4c83-40a1-8d36-9068e361cab4",
   "metadata": {
    "id": "x1ikWbydrbf6"
   },
   "outputs": [
    {
     "data": {
      "text/html": [
       "<div>\n",
       "<style scoped>\n",
       "    .dataframe tbody tr th:only-of-type {\n",
       "        vertical-align: middle;\n",
       "    }\n",
       "\n",
       "    .dataframe tbody tr th {\n",
       "        vertical-align: top;\n",
       "    }\n",
       "\n",
       "    .dataframe thead th {\n",
       "        text-align: right;\n",
       "    }\n",
       "</style>\n",
       "<table border=\"1\" class=\"dataframe\">\n",
       "  <thead>\n",
       "    <tr style=\"text-align: right;\">\n",
       "      <th></th>\n",
       "      <th>region_name</th>\n",
       "      <th>employer_count</th>\n",
       "      <th>vacancy_count</th>\n",
       "    </tr>\n",
       "  </thead>\n",
       "  <tbody>\n",
       "    <tr>\n",
       "      <th>0</th>\n",
       "      <td>Москва</td>\n",
       "      <td>5864</td>\n",
       "      <td>5333</td>\n",
       "    </tr>\n",
       "    <tr>\n",
       "      <th>1</th>\n",
       "      <td>Санкт-Петербург</td>\n",
       "      <td>2217</td>\n",
       "      <td>2851</td>\n",
       "    </tr>\n",
       "    <tr>\n",
       "      <th>2</th>\n",
       "      <td>Минск</td>\n",
       "      <td>1115</td>\n",
       "      <td>2112</td>\n",
       "    </tr>\n",
       "    <tr>\n",
       "      <th>3</th>\n",
       "      <td>Алматы</td>\n",
       "      <td>721</td>\n",
       "      <td>1892</td>\n",
       "    </tr>\n",
       "    <tr>\n",
       "      <th>4</th>\n",
       "      <td>Екатеринбург</td>\n",
       "      <td>609</td>\n",
       "      <td>1698</td>\n",
       "    </tr>\n",
       "    <tr>\n",
       "      <th>...</th>\n",
       "      <td>...</td>\n",
       "      <td>...</td>\n",
       "      <td>...</td>\n",
       "    </tr>\n",
       "    <tr>\n",
       "      <th>1357</th>\n",
       "      <td>Нововоронеж</td>\n",
       "      <td>0</td>\n",
       "      <td>0</td>\n",
       "    </tr>\n",
       "    <tr>\n",
       "      <th>1358</th>\n",
       "      <td>Пролетарск</td>\n",
       "      <td>0</td>\n",
       "      <td>0</td>\n",
       "    </tr>\n",
       "    <tr>\n",
       "      <th>1359</th>\n",
       "      <td>Серебрянск</td>\n",
       "      <td>0</td>\n",
       "      <td>0</td>\n",
       "    </tr>\n",
       "    <tr>\n",
       "      <th>1360</th>\n",
       "      <td>Бирюч</td>\n",
       "      <td>0</td>\n",
       "      <td>0</td>\n",
       "    </tr>\n",
       "    <tr>\n",
       "      <th>1361</th>\n",
       "      <td>Ивня</td>\n",
       "      <td>0</td>\n",
       "      <td>0</td>\n",
       "    </tr>\n",
       "  </tbody>\n",
       "</table>\n",
       "<p>1362 rows × 3 columns</p>\n",
       "</div>"
      ],
      "text/plain": [
       "          region_name  employer_count  vacancy_count\n",
       "0              Москва            5864           5333\n",
       "1     Санкт-Петербург            2217           2851\n",
       "2               Минск            1115           2112\n",
       "3              Алматы             721           1892\n",
       "4        Екатеринбург             609           1698\n",
       "...               ...             ...            ...\n",
       "1357      Нововоронеж               0              0\n",
       "1358       Пролетарск               0              0\n",
       "1359       Серебрянск               0              0\n",
       "1360            Бирюч               0              0\n",
       "1361             Ивня               0              0\n",
       "\n",
       "[1362 rows x 3 columns]"
      ]
     },
     "execution_count": 45,
     "metadata": {},
     "output_type": "execute_result"
    }
   ],
   "source": [
    "# результат запроса\n",
    "df_5_2_1"
   ]
  },
  {
   "cell_type": "code",
   "execution_count": 46,
   "id": "59f2e2df-c2f4-4d3f-bc54-baf1dce17252",
   "metadata": {
    "id": "x1ikWbydrbf6"
   },
   "outputs": [
    {
     "data": {
      "text/html": [
       "<div>\n",
       "<style scoped>\n",
       "    .dataframe tbody tr th:only-of-type {\n",
       "        vertical-align: middle;\n",
       "    }\n",
       "\n",
       "    .dataframe tbody tr th {\n",
       "        vertical-align: top;\n",
       "    }\n",
       "\n",
       "    .dataframe thead th {\n",
       "        text-align: right;\n",
       "    }\n",
       "</style>\n",
       "<table border=\"1\" class=\"dataframe\">\n",
       "  <thead>\n",
       "    <tr style=\"text-align: right;\">\n",
       "      <th></th>\n",
       "      <th>region_name</th>\n",
       "      <th>employer_count</th>\n",
       "    </tr>\n",
       "  </thead>\n",
       "  <tbody>\n",
       "    <tr>\n",
       "      <th>0</th>\n",
       "      <td>Россия</td>\n",
       "      <td>410</td>\n",
       "    </tr>\n",
       "    <tr>\n",
       "      <th>1</th>\n",
       "      <td>Казахстан</td>\n",
       "      <td>207</td>\n",
       "    </tr>\n",
       "    <tr>\n",
       "      <th>2</th>\n",
       "      <td>Московская область</td>\n",
       "      <td>75</td>\n",
       "    </tr>\n",
       "    <tr>\n",
       "      <th>3</th>\n",
       "      <td>Краснодарский край</td>\n",
       "      <td>19</td>\n",
       "    </tr>\n",
       "    <tr>\n",
       "      <th>4</th>\n",
       "      <td>Беларусь</td>\n",
       "      <td>18</td>\n",
       "    </tr>\n",
       "    <tr>\n",
       "      <th>...</th>\n",
       "      <td>...</td>\n",
       "      <td>...</td>\n",
       "    </tr>\n",
       "    <tr>\n",
       "      <th>181</th>\n",
       "      <td>Угольные Копи</td>\n",
       "      <td>1</td>\n",
       "    </tr>\n",
       "    <tr>\n",
       "      <th>182</th>\n",
       "      <td>Сморгонь</td>\n",
       "      <td>1</td>\n",
       "    </tr>\n",
       "    <tr>\n",
       "      <th>183</th>\n",
       "      <td>Атбасар</td>\n",
       "      <td>1</td>\n",
       "    </tr>\n",
       "    <tr>\n",
       "      <th>184</th>\n",
       "      <td>Черлак (Омская область) \\t</td>\n",
       "      <td>1</td>\n",
       "    </tr>\n",
       "    <tr>\n",
       "      <th>185</th>\n",
       "      <td>Венев</td>\n",
       "      <td>1</td>\n",
       "    </tr>\n",
       "  </tbody>\n",
       "</table>\n",
       "<p>186 rows × 2 columns</p>\n",
       "</div>"
      ],
      "text/plain": [
       "                    region_name  employer_count\n",
       "0                        Россия             410\n",
       "1                     Казахстан             207\n",
       "2            Московская область              75\n",
       "3            Краснодарский край              19\n",
       "4                      Беларусь              18\n",
       "..                          ...             ...\n",
       "181               Угольные Копи               1\n",
       "182                    Сморгонь               1\n",
       "183                     Атбасар               1\n",
       "184  Черлак (Омская область) \\t               1\n",
       "185                       Венев               1\n",
       "\n",
       "[186 rows x 2 columns]"
      ]
     },
     "execution_count": 46,
     "metadata": {},
     "output_type": "execute_result"
    }
   ],
   "source": [
    "df_5_2_2"
   ]
  },
  {
   "cell_type": "markdown",
   "id": "f2fe0acb-ab1a-4e15-9326-2560e22d73c1",
   "metadata": {
    "id": "f2fe0acb-ab1a-4e15-9326-2560e22d73c1"
   },
   "source": [
    "3. Для каждого работодателя посчитайте количество регионов, в которых он публикует свои вакансии. Отсортируйте результат по убыванию количества.\n"
   ]
  },
  {
   "cell_type": "code",
   "execution_count": 48,
   "id": "6271f8ad-bd2e-4196-ae4a-5b39c4c1010e",
   "metadata": {
    "id": "6271f8ad-bd2e-4196-ae4a-5b39c4c1010e"
   },
   "outputs": [],
   "source": [
    "# текст запроса\n",
    "query_5_3 = f'''\n",
    "SELECT \n",
    "    e.name AS employer_name,                   -- Выбор названия работодателя из таблицы employers \n",
    "    COUNT(DISTINCT v.area_id) AS regions_count -- Подсчет количество уникальных регионов вакансий\n",
    "FROM employers e   \n",
    "JOIN vacancies v ON e.id = v.employer_id   -- Объединение таблицы по ID работодателя\n",
    "GROUP BY e.name    -- Группировка результаты по названию работодателя\n",
    "ORDER BY regions_count DESC;  -- Сортировка по количеству регионов по убыванию\n",
    "'''\n",
    "\n",
    "df_5_3 = pd.read_sql_query(query_5_3, connection)"
   ]
  },
  {
   "cell_type": "code",
   "execution_count": 49,
   "id": "1EIvX3HasH4F",
   "metadata": {
    "id": "1EIvX3HasH4F"
   },
   "outputs": [
    {
     "data": {
      "text/html": [
       "<div>\n",
       "<style scoped>\n",
       "    .dataframe tbody tr th:only-of-type {\n",
       "        vertical-align: middle;\n",
       "    }\n",
       "\n",
       "    .dataframe tbody tr th {\n",
       "        vertical-align: top;\n",
       "    }\n",
       "\n",
       "    .dataframe thead th {\n",
       "        text-align: right;\n",
       "    }\n",
       "</style>\n",
       "<table border=\"1\" class=\"dataframe\">\n",
       "  <thead>\n",
       "    <tr style=\"text-align: right;\">\n",
       "      <th></th>\n",
       "      <th>employer_name</th>\n",
       "      <th>regions_count</th>\n",
       "    </tr>\n",
       "  </thead>\n",
       "  <tbody>\n",
       "    <tr>\n",
       "      <th>0</th>\n",
       "      <td>Яндекс</td>\n",
       "      <td>181</td>\n",
       "    </tr>\n",
       "    <tr>\n",
       "      <th>1</th>\n",
       "      <td>Ростелеком</td>\n",
       "      <td>152</td>\n",
       "    </tr>\n",
       "    <tr>\n",
       "      <th>2</th>\n",
       "      <td>Спецремонт</td>\n",
       "      <td>116</td>\n",
       "    </tr>\n",
       "    <tr>\n",
       "      <th>3</th>\n",
       "      <td>Поляков Денис Иванович</td>\n",
       "      <td>88</td>\n",
       "    </tr>\n",
       "    <tr>\n",
       "      <th>4</th>\n",
       "      <td>ООО ЕФИН</td>\n",
       "      <td>71</td>\n",
       "    </tr>\n",
       "    <tr>\n",
       "      <th>...</th>\n",
       "      <td>...</td>\n",
       "      <td>...</td>\n",
       "    </tr>\n",
       "    <tr>\n",
       "      <th>14761</th>\n",
       "      <td>UniSol</td>\n",
       "      <td>1</td>\n",
       "    </tr>\n",
       "    <tr>\n",
       "      <th>14762</th>\n",
       "      <td>UNISTORY LLC</td>\n",
       "      <td>1</td>\n",
       "    </tr>\n",
       "    <tr>\n",
       "      <th>14763</th>\n",
       "      <td>UNIT6</td>\n",
       "      <td>1</td>\n",
       "    </tr>\n",
       "    <tr>\n",
       "      <th>14764</th>\n",
       "      <td>United Distribution</td>\n",
       "      <td>1</td>\n",
       "    </tr>\n",
       "    <tr>\n",
       "      <th>14765</th>\n",
       "      <td>UNITEL LLC</td>\n",
       "      <td>1</td>\n",
       "    </tr>\n",
       "  </tbody>\n",
       "</table>\n",
       "<p>14766 rows × 2 columns</p>\n",
       "</div>"
      ],
      "text/plain": [
       "                employer_name  regions_count\n",
       "0                      Яндекс            181\n",
       "1                  Ростелеком            152\n",
       "2                  Спецремонт            116\n",
       "3      Поляков Денис Иванович             88\n",
       "4                   ООО ЕФИН              71\n",
       "...                       ...            ...\n",
       "14761                  UniSol              1\n",
       "14762            UNISTORY LLC              1\n",
       "14763                   UNIT6              1\n",
       "14764     United Distribution              1\n",
       "14765              UNITEL LLC              1\n",
       "\n",
       "[14766 rows x 2 columns]"
      ]
     },
     "execution_count": 49,
     "metadata": {},
     "output_type": "execute_result"
    }
   ],
   "source": [
    "# результат запроса\n",
    "df_5_3"
   ]
  },
  {
   "cell_type": "markdown",
   "id": "eab2206d-d95b-468b-8e5f-34381abf0ce7",
   "metadata": {
    "id": "eab2206d-d95b-468b-8e5f-34381abf0ce7"
   },
   "source": [
    "4. Напишите запрос для подсчёта количества работодателей, у которых не указана сфера деятельности."
   ]
  },
  {
   "cell_type": "code",
   "execution_count": 51,
   "id": "80defb23-bfb1-4a18-8be6-bf36aa7165d5",
   "metadata": {
    "id": "80defb23-bfb1-4a18-8be6-bf36aa7165d5"
   },
   "outputs": [],
   "source": [
    "# текст запроса\n",
    "query_5_4 = f'''\n",
    "SELECT COUNT(*)   -- Подсчитать количество работодателей\n",
    "FROM employers e  -- Из таблицы работодателей\n",
    "WHERE NOT EXISTS (   -- Условие, которое проверяет, есть ли записи в связанной таблице\n",
    "    SELECT 1  -- проверка факта существования записи\n",
    "    FROM employers_industries ei  -- Из таблицы связей работодателей с отраслями (employers_industries)\n",
    "    WHERE e.id = ei.employer_id  -- Связать таблицы по ID работодателя\n",
    ");\n",
    "'''\n",
    "\n",
    "df_5_4 = pd.read_sql_query(query_5_4, connection)"
   ]
  },
  {
   "cell_type": "code",
   "execution_count": 52,
   "id": "Dp_yCx6ysQSu",
   "metadata": {
    "id": "Dp_yCx6ysQSu"
   },
   "outputs": [
    {
     "data": {
      "text/html": [
       "<div>\n",
       "<style scoped>\n",
       "    .dataframe tbody tr th:only-of-type {\n",
       "        vertical-align: middle;\n",
       "    }\n",
       "\n",
       "    .dataframe tbody tr th {\n",
       "        vertical-align: top;\n",
       "    }\n",
       "\n",
       "    .dataframe thead th {\n",
       "        text-align: right;\n",
       "    }\n",
       "</style>\n",
       "<table border=\"1\" class=\"dataframe\">\n",
       "  <thead>\n",
       "    <tr style=\"text-align: right;\">\n",
       "      <th></th>\n",
       "      <th>count</th>\n",
       "    </tr>\n",
       "  </thead>\n",
       "  <tbody>\n",
       "    <tr>\n",
       "      <th>0</th>\n",
       "      <td>8419</td>\n",
       "    </tr>\n",
       "  </tbody>\n",
       "</table>\n",
       "</div>"
      ],
      "text/plain": [
       "   count\n",
       "0   8419"
      ]
     },
     "execution_count": 52,
     "metadata": {},
     "output_type": "execute_result"
    }
   ],
   "source": [
    "# результат запроса\n",
    "df_5_4"
   ]
  },
  {
   "cell_type": "markdown",
   "id": "0112af31-f6b0-4e3b-82ab-71296e752e5e",
   "metadata": {
    "id": "0112af31-f6b0-4e3b-82ab-71296e752e5e"
   },
   "source": [
    "5. Напишите запрос, чтобы узнать название компании, находящейся на третьем месте в алфавитном списке (по названию) компаний, у которых указано четыре сферы деятельности."
   ]
  },
  {
   "cell_type": "code",
   "execution_count": 54,
   "id": "973b0cfc-a972-470a-8b4a-68744ef220c4",
   "metadata": {
    "id": "973b0cfc-a972-470a-8b4a-68744ef220c4"
   },
   "outputs": [],
   "source": [
    "# текст запроса\n",
    "query_5_5 = f'''\n",
    "SELECT e.name AS employer_name\n",
    "FROM employers e\n",
    "JOIN (\n",
    "    SELECT \n",
    "        ei.employer_id, \n",
    "        COUNT(*) AS industry_count\n",
    "    FROM employers_industries ei\n",
    "    GROUP BY ei.employer_id   -- Группировка результатов по ID работодателя\n",
    "    HAVING COUNT(*) = 4  -- Фильтрация работодателей, у которых количество отраслей равно 4\n",
    ") AS industry_counts ON e.id = industry_counts.employer_id  -- Объединение таблицу employers с отфильтрованными данными по ID работодателя\n",
    "ORDER BY e.name  -- Сортировка результаты по названию работодателя\n",
    "LIMIT 1 OFFSET 2;  -- Возврат 1 строки, начиная с третьего результата (смещение 2)\n",
    "'''\n",
    "\n",
    "df_5_5 = pd.read_sql_query(query_5_5, connection)\n"
   ]
  },
  {
   "cell_type": "code",
   "execution_count": 55,
   "id": "xsPtpp8EsaED",
   "metadata": {
    "id": "xsPtpp8EsaED"
   },
   "outputs": [
    {
     "data": {
      "text/html": [
       "<div>\n",
       "<style scoped>\n",
       "    .dataframe tbody tr th:only-of-type {\n",
       "        vertical-align: middle;\n",
       "    }\n",
       "\n",
       "    .dataframe tbody tr th {\n",
       "        vertical-align: top;\n",
       "    }\n",
       "\n",
       "    .dataframe thead th {\n",
       "        text-align: right;\n",
       "    }\n",
       "</style>\n",
       "<table border=\"1\" class=\"dataframe\">\n",
       "  <thead>\n",
       "    <tr style=\"text-align: right;\">\n",
       "      <th></th>\n",
       "      <th>employer_name</th>\n",
       "    </tr>\n",
       "  </thead>\n",
       "  <tbody>\n",
       "    <tr>\n",
       "      <th>0</th>\n",
       "      <td>2ГИС</td>\n",
       "    </tr>\n",
       "  </tbody>\n",
       "</table>\n",
       "</div>"
      ],
      "text/plain": [
       "  employer_name\n",
       "0          2ГИС"
      ]
     },
     "execution_count": 55,
     "metadata": {},
     "output_type": "execute_result"
    }
   ],
   "source": [
    "# результат запроса\n",
    "df_5_5"
   ]
  },
  {
   "cell_type": "markdown",
   "id": "3bfcfdaf-755d-4d2b-8ed8-326201dc07ab",
   "metadata": {
    "id": "3bfcfdaf-755d-4d2b-8ed8-326201dc07ab"
   },
   "source": [
    "6. С помощью запроса выясните, у какого количества работодателей в качестве сферы деятельности указана «Разработка программного обеспечения».\n"
   ]
  },
  {
   "cell_type": "code",
   "execution_count": 57,
   "id": "ad3f270f-2991-47eb-929b-e8f88a55b0d1",
   "metadata": {
    "id": "ad3f270f-2991-47eb-929b-e8f88a55b0d1"
   },
   "outputs": [],
   "source": [
    "# текст запроса\n",
    "query_5_6 = f'''\n",
    "SELECT COUNT(DISTINCT ei.employer_id)  -- Подсчитать количество уникальных ID работодателей\n",
    "FROM employers_industries ei  -- Из таблицы связей работодателей и отраслей\n",
    "JOIN industries i ON ei.industry_id = i.id   -- Объединить таблицы по ID отрасли\n",
    "WHERE i.name = 'Разработка программного обеспечения'; -- Отфильтровать только отрасль \"Разработка программного обеспечения\"\n",
    "'''\n",
    "\n",
    "df_5_6 = pd.read_sql_query(query_5_6, connection)"
   ]
  },
  {
   "cell_type": "code",
   "execution_count": 58,
   "id": "H72qxWM0shPR",
   "metadata": {
    "id": "H72qxWM0shPR"
   },
   "outputs": [
    {
     "data": {
      "text/html": [
       "<div>\n",
       "<style scoped>\n",
       "    .dataframe tbody tr th:only-of-type {\n",
       "        vertical-align: middle;\n",
       "    }\n",
       "\n",
       "    .dataframe tbody tr th {\n",
       "        vertical-align: top;\n",
       "    }\n",
       "\n",
       "    .dataframe thead th {\n",
       "        text-align: right;\n",
       "    }\n",
       "</style>\n",
       "<table border=\"1\" class=\"dataframe\">\n",
       "  <thead>\n",
       "    <tr style=\"text-align: right;\">\n",
       "      <th></th>\n",
       "      <th>count</th>\n",
       "    </tr>\n",
       "  </thead>\n",
       "  <tbody>\n",
       "    <tr>\n",
       "      <th>0</th>\n",
       "      <td>3553</td>\n",
       "    </tr>\n",
       "  </tbody>\n",
       "</table>\n",
       "</div>"
      ],
      "text/plain": [
       "   count\n",
       "0   3553"
      ]
     },
     "execution_count": 58,
     "metadata": {},
     "output_type": "execute_result"
    }
   ],
   "source": [
    "# результат запроса\n",
    "df_5_6"
   ]
  },
  {
   "cell_type": "markdown",
   "id": "c893936b",
   "metadata": {},
   "source": [
    "7. Для компании «Яндекс» выведите список [городов-миллионников](https://ru.wikipedia.org/wiki/%D0%93%D0%BE%D1%80%D0%BE%D0%B4%D0%B0-%D0%BC%D0%B8%D0%BB%D0%BB%D0%B8%D0%BE%D0%BD%D0%B5%D1%80%D1%8B_%D0%A0%D0%BE%D1%81%D1%81%D0%B8%D0%B8), в которых представлены вакансии компании, вместе с количеством вакансий в этих регионах. Также добавьте строку \"Total\" с общим количеством вакансий компании. Результат отсортируйте по возрастанию количества.\n",
    "\n",
    "    Если возникнут трудности с этим заданием, посмотрите материалы модуля 6.4 «Как получать данные из веб-источников и API»."
   ]
  },
  {
   "cell_type": "code",
   "execution_count": 60,
   "id": "ZdfrL6gIs1Pn",
   "metadata": {
    "id": "ZdfrL6gIs1Pn"
   },
   "outputs": [],
   "source": [
    "# код для получения списка городов-милионников\n",
    "url='https://ru.wikipedia.org/wiki/%D0%93%D0%BE%D1%80%D0%BE%D0%B4%D0%B0-%D0%BC%D0%B8%D0%BB%D0%BB%D0%B8%D0%BE%D0%BD%D0%B5%D1%80%D1%8B_%D0%A0%D0%BE%D1%81%D1%81%D0%B8%D0%B8#%D0%A1%D0%BF%D0%B8%D1%81%D0%BE%D0%BA_%D0%B3%D0%BE%D1%80%D0%BE%D0%B4%D0%BE%D0%B2-%D0%BC%D0%B8%D0%BB%D0%BB%D0%B8%D0%BE%D0%BD%D0%B5%D1%80%D0%BE%D0%B2'\n",
    "data = pd.read_html(url)\n",
    "city_df = data[0]\n",
    "city_list = list(city_df['Город'])\n",
    "city_tuple = tuple(city_list)\n"
   ]
  },
  {
   "cell_type": "code",
   "execution_count": 61,
   "id": "56be4b32-dfe4-4799-96ef-b54a5b9a6334",
   "metadata": {},
   "outputs": [
    {
     "data": {
      "text/plain": [
       "('Москва',\n",
       " 'Санкт-Петербург',\n",
       " 'Новосибирск',\n",
       " 'Екатеринбург',\n",
       " 'Казань',\n",
       " 'Красноярск',\n",
       " 'Нижний Новгород',\n",
       " 'Челябинск',\n",
       " 'Уфа',\n",
       " 'Самара',\n",
       " 'Ростов-на-Дону',\n",
       " 'Краснодар',\n",
       " 'Омск',\n",
       " 'Воронеж',\n",
       " 'Пермь',\n",
       " 'Волгоград')"
      ]
     },
     "execution_count": 61,
     "metadata": {},
     "output_type": "execute_result"
    }
   ],
   "source": [
    "city_tuple"
   ]
  },
  {
   "cell_type": "code",
   "execution_count": 62,
   "id": "5a0e32a4-e68a-4365-8a39-2fe24c542c36",
   "metadata": {
    "id": "5a0e32a4-e68a-4365-8a39-2fe24c542c36"
   },
   "outputs": [],
   "source": [
    "# текст запроса\n",
    "\n",
    "query_5_7 = f'''\n",
    "/* Создаем временную таблицу CityCounts для хранения подсчитанного количества вакансий по городам */\n",
    "WITH CityCounts AS (\n",
    "  SELECT\n",
    "    a.name AS city,  -- Выбираем название города из таблицы areas (a) и переименовываем его в \"city\"\n",
    "    COUNT(*) AS vacancy_count  -- Считаем количество вакансий для каждой группы\n",
    "  FROM\n",
    "    vacancies v  -- Таблица вакансий\n",
    "  JOIN employers e ON v.employer_id = e.id  -- Объединяем таблицы vacancies и employers по полю employer_id\n",
    "  JOIN areas a ON v.area_id = a.id  -- Объединяем таблицы vacancies и areas по полю area_id\n",
    "  WHERE\n",
    "    e.name = 'Яндекс'  -- Фильтруем вакансии только для компании \"Яндекс\"\n",
    "  AND a.name IN {city_tuple}  -- Фильтруем вакансии по городам, указанным в списке city_tuple\n",
    "  GROUP BY a.name  -- Группируем данные по названию города\n",
    ")\n",
    "-- Выбираем данные из временной таблицы CityCounts\n",
    "SELECT\n",
    "  city,  -- Выбираем поле \"city\" из временной таблицы\n",
    "  vacancy_count  -- Выбираем поле \"vacancy_count\" из временной таблицы\n",
    "FROM\n",
    "  CityCounts\n",
    "-- Объединяем результаты с итоговой строкой, показывающей общее количество вакансий\n",
    "UNION ALL\n",
    "SELECT\n",
    "  'Total',  -- Добавляем строку \"Total\" для общего количества\n",
    "  SUM(vacancy_count) AS total_count  -- Считаем суммарное количество вакансий по всем городам\n",
    "FROM\n",
    "  CityCounts\n",
    "ORDER BY vacancy_count ASC; -- Сортируем результаты по количеству вакансий по возрастанию\n",
    "'''\n",
    "\n",
    "\n",
    "df_5_7 = pd.read_sql_query(query_5_7, connection)"
   ]
  },
  {
   "cell_type": "code",
   "execution_count": 63,
   "id": "ttPhiO1rsvPq",
   "metadata": {
    "id": "ttPhiO1rsvPq"
   },
   "outputs": [
    {
     "data": {
      "text/html": [
       "<div>\n",
       "<style scoped>\n",
       "    .dataframe tbody tr th:only-of-type {\n",
       "        vertical-align: middle;\n",
       "    }\n",
       "\n",
       "    .dataframe tbody tr th {\n",
       "        vertical-align: top;\n",
       "    }\n",
       "\n",
       "    .dataframe thead th {\n",
       "        text-align: right;\n",
       "    }\n",
       "</style>\n",
       "<table border=\"1\" class=\"dataframe\">\n",
       "  <thead>\n",
       "    <tr style=\"text-align: right;\">\n",
       "      <th></th>\n",
       "      <th>city</th>\n",
       "      <th>vacancy_count</th>\n",
       "    </tr>\n",
       "  </thead>\n",
       "  <tbody>\n",
       "    <tr>\n",
       "      <th>0</th>\n",
       "      <td>Омск</td>\n",
       "      <td>21.0</td>\n",
       "    </tr>\n",
       "    <tr>\n",
       "      <th>1</th>\n",
       "      <td>Челябинск</td>\n",
       "      <td>22.0</td>\n",
       "    </tr>\n",
       "    <tr>\n",
       "      <th>2</th>\n",
       "      <td>Красноярск</td>\n",
       "      <td>23.0</td>\n",
       "    </tr>\n",
       "    <tr>\n",
       "      <th>3</th>\n",
       "      <td>Волгоград</td>\n",
       "      <td>24.0</td>\n",
       "    </tr>\n",
       "    <tr>\n",
       "      <th>4</th>\n",
       "      <td>Пермь</td>\n",
       "      <td>25.0</td>\n",
       "    </tr>\n",
       "    <tr>\n",
       "      <th>5</th>\n",
       "      <td>Казань</td>\n",
       "      <td>25.0</td>\n",
       "    </tr>\n",
       "    <tr>\n",
       "      <th>6</th>\n",
       "      <td>Ростов-на-Дону</td>\n",
       "      <td>25.0</td>\n",
       "    </tr>\n",
       "    <tr>\n",
       "      <th>7</th>\n",
       "      <td>Самара</td>\n",
       "      <td>26.0</td>\n",
       "    </tr>\n",
       "    <tr>\n",
       "      <th>8</th>\n",
       "      <td>Уфа</td>\n",
       "      <td>26.0</td>\n",
       "    </tr>\n",
       "    <tr>\n",
       "      <th>9</th>\n",
       "      <td>Краснодар</td>\n",
       "      <td>30.0</td>\n",
       "    </tr>\n",
       "    <tr>\n",
       "      <th>10</th>\n",
       "      <td>Воронеж</td>\n",
       "      <td>32.0</td>\n",
       "    </tr>\n",
       "    <tr>\n",
       "      <th>11</th>\n",
       "      <td>Новосибирск</td>\n",
       "      <td>35.0</td>\n",
       "    </tr>\n",
       "    <tr>\n",
       "      <th>12</th>\n",
       "      <td>Нижний Новгород</td>\n",
       "      <td>36.0</td>\n",
       "    </tr>\n",
       "    <tr>\n",
       "      <th>13</th>\n",
       "      <td>Екатеринбург</td>\n",
       "      <td>39.0</td>\n",
       "    </tr>\n",
       "    <tr>\n",
       "      <th>14</th>\n",
       "      <td>Санкт-Петербург</td>\n",
       "      <td>42.0</td>\n",
       "    </tr>\n",
       "    <tr>\n",
       "      <th>15</th>\n",
       "      <td>Москва</td>\n",
       "      <td>54.0</td>\n",
       "    </tr>\n",
       "    <tr>\n",
       "      <th>16</th>\n",
       "      <td>Total</td>\n",
       "      <td>485.0</td>\n",
       "    </tr>\n",
       "  </tbody>\n",
       "</table>\n",
       "</div>"
      ],
      "text/plain": [
       "               city  vacancy_count\n",
       "0              Омск           21.0\n",
       "1         Челябинск           22.0\n",
       "2        Красноярск           23.0\n",
       "3         Волгоград           24.0\n",
       "4             Пермь           25.0\n",
       "5            Казань           25.0\n",
       "6    Ростов-на-Дону           25.0\n",
       "7            Самара           26.0\n",
       "8               Уфа           26.0\n",
       "9         Краснодар           30.0\n",
       "10          Воронеж           32.0\n",
       "11      Новосибирск           35.0\n",
       "12  Нижний Новгород           36.0\n",
       "13     Екатеринбург           39.0\n",
       "14  Санкт-Петербург           42.0\n",
       "15           Москва           54.0\n",
       "16            Total          485.0"
      ]
     },
     "execution_count": 63,
     "metadata": {},
     "output_type": "execute_result"
    }
   ],
   "source": [
    "# результат запроса\n",
    "df_5_7"
   ]
  },
  {
   "cell_type": "markdown",
   "id": "04966e40-3bc3-4dc8-9ba2-e80580ce3abc",
   "metadata": {
    "id": "04966e40-3bc3-4dc8-9ba2-e80580ce3abc"
   },
   "source": [
    "***"
   ]
  },
  {
   "cell_type": "markdown",
   "id": "f37416df-00bf-4970-b382-de95614fd2b9",
   "metadata": {
    "id": "aGGyER-yt4SR"
   },
   "source": [
    "### Выводы по анализу работодателей\n",
    "1. выявлено распределение количества вакансий по работодателям.\n",
    "2. выявлено количество работодателей и вакансий для каждого региона.\n",
    "3. для каждого работодателя посчитайте количество регионов, в которых он публикует свои вакансии.\n",
    "4. подсчитано количество работодателей, у которых не указана сфера деятельности.\n",
    "5. составлен алфавитный список (по названию) компаний, у которых указано четыре сферы деятельности.\n",
    "6. выяснено, у какого количества работодателей в качестве сферы деятельности указана «Разработка программного обеспечения».\n",
    "7. для компании «Яндекс» выведен список городов-миллионников, в которых представлены вакансии компании, вместе с количеством вакансий в этих регионах и  с общим количеством вакансий компании, собранных в этой таблице. "
   ]
  },
  {
   "cell_type": "markdown",
   "id": "b1ef156a-efcb-49ce-bb23-90763e7f35b2",
   "metadata": {
    "id": "b1ef156a-efcb-49ce-bb23-90763e7f35b2",
    "tags": []
   },
   "source": [
    "## 6. Предметный анализ"
   ]
  },
  {
   "cell_type": "markdown",
   "id": "b9cd50a0-992d-4988-8463-2b2b1c4629b4",
   "metadata": {
    "id": "b9cd50a0-992d-4988-8463-2b2b1c4629b4"
   },
   "source": [
    "1. Сколько вакансий имеет отношение к данным?\n",
    "\n",
    "    Считаем, что вакансия имеет отношение к данным, если в её названии содержатся слова `'data'` или `'данн'`.\n",
    "\n",
    "    *Обратите внимание, что названия вакансий могут быть написаны в любом регистре.*\n"
   ]
  },
  {
   "cell_type": "code",
   "execution_count": 68,
   "id": "54ab0e50-c0f1-47cc-a54b-bc5c8bc363f9",
   "metadata": {
    "id": "54ab0e50-c0f1-47cc-a54b-bc5c8bc363f9"
   },
   "outputs": [],
   "source": [
    "# текст запроса\n",
    "query_6_1 = f'''\n",
    "SELECT COUNT(*)  -- Подсчитать общее количество вакансий\n",
    "FROM vacancies  -- Из таблицы вакансий\n",
    "WHERE LOWER(name) LIKE '%data%'  -- Фильтр по ключевому слову \"data\" (независимо от регистра)\n",
    "    OR LOWER(name) LIKE '%данн%';  -- Фильтр по ключевому слову \"данн\" (независимо от регистра)\n",
    "'''\n",
    "\n",
    "df_6_1 = pd.read_sql_query(query_6_1, connection)\n"
   ]
  },
  {
   "cell_type": "code",
   "execution_count": 69,
   "id": "9F1meAqsuUjd",
   "metadata": {
    "id": "9F1meAqsuUjd"
   },
   "outputs": [
    {
     "data": {
      "text/html": [
       "<div>\n",
       "<style scoped>\n",
       "    .dataframe tbody tr th:only-of-type {\n",
       "        vertical-align: middle;\n",
       "    }\n",
       "\n",
       "    .dataframe tbody tr th {\n",
       "        vertical-align: top;\n",
       "    }\n",
       "\n",
       "    .dataframe thead th {\n",
       "        text-align: right;\n",
       "    }\n",
       "</style>\n",
       "<table border=\"1\" class=\"dataframe\">\n",
       "  <thead>\n",
       "    <tr style=\"text-align: right;\">\n",
       "      <th></th>\n",
       "      <th>count</th>\n",
       "    </tr>\n",
       "  </thead>\n",
       "  <tbody>\n",
       "    <tr>\n",
       "      <th>0</th>\n",
       "      <td>1771</td>\n",
       "    </tr>\n",
       "  </tbody>\n",
       "</table>\n",
       "</div>"
      ],
      "text/plain": [
       "   count\n",
       "0   1771"
      ]
     },
     "execution_count": 69,
     "metadata": {},
     "output_type": "execute_result"
    }
   ],
   "source": [
    "# результат запроса\n",
    "df_6_1"
   ]
  },
  {
   "cell_type": "markdown",
   "id": "4dea20cb-a36b-474a-a0b9-e08e8e3857a5",
   "metadata": {
    "id": "4dea20cb-a36b-474a-a0b9-e08e8e3857a5"
   },
   "source": [
    "2. Сколько есть подходящих вакансий для начинающего дата-сайентиста? Будем считать вакансиями для дата-сайентистов такие, в названии которых есть хотя бы одно из следующих сочетаний:\n",
    "    * 'data scientist'\n",
    "    * 'data science'\n",
    "    * 'исследователь данных'\n",
    "    * 'ML' (здесь не нужно брать вакансии по HTML)\n",
    "    * 'machine learning'\n",
    "    * 'машинн%обучен%'\n",
    "\n",
    "    **В следующих заданиях мы продолжим работать с вакансиями по этому условию.**\n",
    "\n",
    "    Считаем вакансиями для специалистов уровня Junior следующие:\n",
    "    + в названии есть слово “junior” **или**\n",
    "    + требуемый опыт — «Нет опыта» **или**\n",
    "    + тип трудоустройства — «Стажировка».\n"
   ]
  },
  {
   "cell_type": "code",
   "execution_count": 71,
   "id": "9c61b3c0-bb66-46c9-ae1e-81d3f5752b4a",
   "metadata": {
    "id": "9c61b3c0-bb66-46c9-ae1e-81d3f5752b4a"
   },
   "outputs": [],
   "source": [
    "# текст запроса\n",
    "query_6_2 = f'''\n",
    "SELECT COUNT(*)  -- Подсчитать общее количество вакансий\n",
    "FROM vacancies  -- Из таблицы вакансий\n",
    "WHERE (\n",
    "    /* Условия для поиска вакансий в области Data Science и Machine Learning: */\n",
    "    LOWER(name) LIKE '%data scientist%' OR \n",
    "    LOWER(name) LIKE '%data science%' OR \n",
    "    LOWER(name) LIKE '%исследователь данных%' OR \n",
    "    (name LIKE '%ML%' AND name NOT LIKE '%HTML%') OR -- Исключаем вакансии, связанные с HTML\n",
    "    LOWER(name) LIKE '%machine learning%' OR \n",
    "    LOWER(name) LIKE '%машинн%обучен%' \n",
    ")\n",
    "AND (\n",
    "    /* Условия для поиска вакансий для начинающих специалистов: */\n",
    "    LOWER(name) LIKE '%junior%' OR \n",
    "    experience = 'Нет опыта' OR \n",
    "    employment = 'Стажировка'\n",
    ");\n",
    "'''\n",
    "\n",
    "df_6_2 = pd.read_sql_query(query_6_2, connection)\n"
   ]
  },
  {
   "cell_type": "code",
   "execution_count": 72,
   "id": "ZNM-LLYuu1dj",
   "metadata": {
    "id": "ZNM-LLYuu1dj"
   },
   "outputs": [
    {
     "data": {
      "text/html": [
       "<div>\n",
       "<style scoped>\n",
       "    .dataframe tbody tr th:only-of-type {\n",
       "        vertical-align: middle;\n",
       "    }\n",
       "\n",
       "    .dataframe tbody tr th {\n",
       "        vertical-align: top;\n",
       "    }\n",
       "\n",
       "    .dataframe thead th {\n",
       "        text-align: right;\n",
       "    }\n",
       "</style>\n",
       "<table border=\"1\" class=\"dataframe\">\n",
       "  <thead>\n",
       "    <tr style=\"text-align: right;\">\n",
       "      <th></th>\n",
       "      <th>count</th>\n",
       "    </tr>\n",
       "  </thead>\n",
       "  <tbody>\n",
       "    <tr>\n",
       "      <th>0</th>\n",
       "      <td>51</td>\n",
       "    </tr>\n",
       "  </tbody>\n",
       "</table>\n",
       "</div>"
      ],
      "text/plain": [
       "   count\n",
       "0     51"
      ]
     },
     "execution_count": 72,
     "metadata": {},
     "output_type": "execute_result"
    }
   ],
   "source": [
    "# результат запроса\n",
    "df_6_2"
   ]
  },
  {
   "cell_type": "markdown",
   "id": "eedceb80-c5ca-480e-b27a-278dfb8b4438",
   "metadata": {
    "id": "eedceb80-c5ca-480e-b27a-278dfb8b4438"
   },
   "source": [
    "3. Сколько есть вакансий для DS, в которых в качестве ключевого навыка указан SQL или Postgres?\n",
    "\n",
    "    *Критерии для отнесения вакансии к DS указаны в предыдущем задании.*"
   ]
  },
  {
   "cell_type": "code",
   "execution_count": 74,
   "id": "69621713-0cc5-4f1b-a1d7-bb144fa6148c",
   "metadata": {
    "id": "69621713-0cc5-4f1b-a1d7-bb144fa6148c"
   },
   "outputs": [],
   "source": [
    "# текст запроса\n",
    "query_6_3 = f'''\n",
    "SELECT COUNT(*)  -- Подсчитать общее количество вакансий\n",
    "FROM vacancies  -- Из таблицы вакансий\n",
    "WHERE (\n",
    "    /* Условия для поиска вакансий в области Data Science и Machine Learning: */\n",
    "    LOWER(name) LIKE '%data scientist%' OR \n",
    "    LOWER(name) LIKE '%data science%' OR \n",
    "    LOWER(name) LIKE '%исследователь данных%' OR \n",
    "    (LOWER(name) LIKE '%ml%' AND LOWER(name) NOT LIKE '%html%') OR -- Исключаем вакансии, связанные с HTML\n",
    "    LOWER(name) LIKE '%machine learning%' OR \n",
    "    LOWER(name) LIKE '%машинн%обучен%' \n",
    ")\n",
    "AND (\n",
    "    /* Условия для поиска вакансий, требующих навыков работы с SQL или PostgreSQL: */\n",
    "    LOWER(key_skills) LIKE '%sql%' OR \n",
    "    LOWER(key_skills) LIKE '%postgres%' \n",
    ");\n",
    "\n",
    "'''\n",
    "\n",
    "df_6_3 = pd.read_sql_query(query_6_3, connection)"
   ]
  },
  {
   "cell_type": "code",
   "execution_count": 75,
   "id": "alA8WEAAvGdf",
   "metadata": {
    "id": "alA8WEAAvGdf"
   },
   "outputs": [
    {
     "data": {
      "text/html": [
       "<div>\n",
       "<style scoped>\n",
       "    .dataframe tbody tr th:only-of-type {\n",
       "        vertical-align: middle;\n",
       "    }\n",
       "\n",
       "    .dataframe tbody tr th {\n",
       "        vertical-align: top;\n",
       "    }\n",
       "\n",
       "    .dataframe thead th {\n",
       "        text-align: right;\n",
       "    }\n",
       "</style>\n",
       "<table border=\"1\" class=\"dataframe\">\n",
       "  <thead>\n",
       "    <tr style=\"text-align: right;\">\n",
       "      <th></th>\n",
       "      <th>count</th>\n",
       "    </tr>\n",
       "  </thead>\n",
       "  <tbody>\n",
       "    <tr>\n",
       "      <th>0</th>\n",
       "      <td>229</td>\n",
       "    </tr>\n",
       "  </tbody>\n",
       "</table>\n",
       "</div>"
      ],
      "text/plain": [
       "   count\n",
       "0    229"
      ]
     },
     "execution_count": 75,
     "metadata": {},
     "output_type": "execute_result"
    }
   ],
   "source": [
    "# результат запроса\n",
    "df_6_3"
   ]
  },
  {
   "cell_type": "markdown",
   "id": "1be1e9c6-37cf-4a5f-bfeb-04cab799dc80",
   "metadata": {
    "id": "1be1e9c6-37cf-4a5f-bfeb-04cab799dc80"
   },
   "source": [
    "4. Проверьте, насколько популярен Python в требованиях работодателей к DS. Для этого вычислите количество вакансий, в которых в качестве ключевого навыка указан Python.\n",
    "\n",
    "    *Это можно сделать помощью запроса, аналогичного предыдущему.*"
   ]
  },
  {
   "cell_type": "code",
   "execution_count": 77,
   "id": "0036a355-9ccf-4564-8b01-73d8194297e7",
   "metadata": {
    "id": "0036a355-9ccf-4564-8b01-73d8194297e7"
   },
   "outputs": [],
   "source": [
    "# текст запроса\n",
    "query_6_4 = f'''\n",
    "SELECT COUNT(*)  -- Подсчитать общее количество вакансий\n",
    "FROM vacancies  -- Из таблицы вакансий\n",
    "WHERE (\n",
    "    /* Условия для поиска вакансий в области Data Science и Machine Learning: */\n",
    "    LOWER(name) LIKE '%data scientist%' OR \n",
    "    LOWER(name) LIKE '%data science%' OR \n",
    "    LOWER(name) LIKE '%исследователь данных%' OR \n",
    "    (LOWER(name) LIKE '%ml%' AND LOWER(name) NOT LIKE '%html%') OR -- Исключаем вакансии, связанные с HTML\n",
    "    LOWER(name) LIKE '%machine learning%' OR \n",
    "    LOWER(name) LIKE '%машинн%обучен%' \n",
    ")\n",
    "AND (\n",
    "    /* Условие для поиска вакансий, требующих навыков программирования на Python: */\n",
    "    LOWER(key_skills) LIKE '%python%' \n",
    ")\n",
    "'''\n",
    "\n",
    "df_6_4 = pd.read_sql_query(query_6_4, connection)"
   ]
  },
  {
   "cell_type": "code",
   "execution_count": 78,
   "id": "1i-5WyucvQ6v",
   "metadata": {
    "id": "1i-5WyucvQ6v"
   },
   "outputs": [
    {
     "data": {
      "text/html": [
       "<div>\n",
       "<style scoped>\n",
       "    .dataframe tbody tr th:only-of-type {\n",
       "        vertical-align: middle;\n",
       "    }\n",
       "\n",
       "    .dataframe tbody tr th {\n",
       "        vertical-align: top;\n",
       "    }\n",
       "\n",
       "    .dataframe thead th {\n",
       "        text-align: right;\n",
       "    }\n",
       "</style>\n",
       "<table border=\"1\" class=\"dataframe\">\n",
       "  <thead>\n",
       "    <tr style=\"text-align: right;\">\n",
       "      <th></th>\n",
       "      <th>count</th>\n",
       "    </tr>\n",
       "  </thead>\n",
       "  <tbody>\n",
       "    <tr>\n",
       "      <th>0</th>\n",
       "      <td>357</td>\n",
       "    </tr>\n",
       "  </tbody>\n",
       "</table>\n",
       "</div>"
      ],
      "text/plain": [
       "   count\n",
       "0    357"
      ]
     },
     "execution_count": 78,
     "metadata": {},
     "output_type": "execute_result"
    }
   ],
   "source": [
    "# результат запроса\n",
    "df_6_4"
   ]
  },
  {
   "cell_type": "markdown",
   "id": "ec3c8db7-fa21-4a41-a994-1af63742a642",
   "metadata": {
    "id": "ec3c8db7-fa21-4a41-a994-1af63742a642"
   },
   "source": [
    "5. Сколько ключевых навыков в среднем указывают в вакансиях для DS?\n",
    "Ответ округлите до **двух знаков после точки-разделителя**."
   ]
  },
  {
   "cell_type": "code",
   "execution_count": 80,
   "id": "949132bc-d5b6-4611-8218-0b9a504d74f4",
   "metadata": {
    "id": "949132bc-d5b6-4611-8218-0b9a504d74f4"
   },
   "outputs": [],
   "source": [
    "# текст запроса\n",
    "query_6_5 = f'''\n",
    "SELECT\n",
    "    /* Округление среднего количества навыков до двух знаков после запятой */\n",
    "    ROUND(\n",
    "        AVG(\n",
    "            /* Вычисление количества навыков, разделенных символом табуляции (CHR(9)) */\n",
    "            LENGTH(key_skills) - LENGTH(REPLACE(key_skills, CHR(9), '')) + 1\n",
    "        ),\n",
    "        2\n",
    "    ) AS avg_key_skills,\n",
    "    COUNT(*) AS total_vacancies -- Подсчёт общего количества вакансий\n",
    "FROM public.vacancies\n",
    "WHERE\n",
    "    /* Фильтр по ключевым словам в названии вакансии */\n",
    "    (LOWER(name) LIKE '%data scientist%' -- Включаем вакансии с упоминанием \"data scientist\"\n",
    "     OR LOWER(name) LIKE '%data science%' -- Или \"data science\"\n",
    "     OR LOWER(name) LIKE '%исследователь данных%' -- Или \"исследователь данных\"\n",
    "     OR (name LIKE '% ML %' AND name NOT LIKE '%HTML%') -- Или \"ML\", исключая HTML\n",
    "     OR LOWER(name) LIKE '%machine learning%' -- Или \"machine learning\"\n",
    "     OR LOWER(name) LIKE '%машинн%обучен%') -- Или \"машинное обучение\"\n",
    "     \n",
    "    /* Исключаем вакансии без ключевых навыков  */\n",
    "    AND key_skills IS NOT NULL\n",
    "    AND key_skills != '';\n",
    "'''\n",
    "df_6_5 = pd.read_sql_query(query_6_5, connection)"
   ]
  },
  {
   "cell_type": "code",
   "execution_count": 81,
   "id": "a3V24Tvmviqk",
   "metadata": {
    "id": "a3V24Tvmviqk"
   },
   "outputs": [
    {
     "data": {
      "text/html": [
       "<div>\n",
       "<style scoped>\n",
       "    .dataframe tbody tr th:only-of-type {\n",
       "        vertical-align: middle;\n",
       "    }\n",
       "\n",
       "    .dataframe tbody tr th {\n",
       "        vertical-align: top;\n",
       "    }\n",
       "\n",
       "    .dataframe thead th {\n",
       "        text-align: right;\n",
       "    }\n",
       "</style>\n",
       "<table border=\"1\" class=\"dataframe\">\n",
       "  <thead>\n",
       "    <tr style=\"text-align: right;\">\n",
       "      <th></th>\n",
       "      <th>avg_key_skills</th>\n",
       "      <th>total_vacancies</th>\n",
       "    </tr>\n",
       "  </thead>\n",
       "  <tbody>\n",
       "    <tr>\n",
       "      <th>0</th>\n",
       "      <td>6.41</td>\n",
       "      <td>352</td>\n",
       "    </tr>\n",
       "  </tbody>\n",
       "</table>\n",
       "</div>"
      ],
      "text/plain": [
       "   avg_key_skills  total_vacancies\n",
       "0            6.41              352"
      ]
     },
     "execution_count": 81,
     "metadata": {},
     "output_type": "execute_result"
    }
   ],
   "source": [
    "# результат запроса\n",
    "df_6_5"
   ]
  },
  {
   "cell_type": "markdown",
   "id": "1041c17a-ca8f-4543-a0ca-32778914fb00",
   "metadata": {
    "id": "1041c17a-ca8f-4543-a0ca-32778914fb00"
   },
   "source": [
    "6. Напишите запрос, позволяющий вычислить, какую зарплату для DS в среднем указывают для каждого типа требуемого опыта (уникальное значение из поля `experience`).\n",
    "\n",
    "    При решении задачи примите во внимание следующее:\n",
    "    1. Рассматриваем только вакансии, у которых заполнено хотя бы одно из двух полей с зарплатой.\n",
    "    2. Если заполнены оба поля с зарплатой, то считаем зарплату по каждой вакансии как сумму двух полей, делённую на 2. Если заполнено только одно из полей, то его и считаем зарплатой по вакансии.\n",
    "    3. Если в расчётах участвует `null`, в результате он тоже даст `null` (посмотрите, что возвращает запрос `select 1 + null`). Чтобы избежать этой ситуацию, мы воспользуемся функцией [coalesce](https://postgrespro.ru/docs/postgresql/9.5/functions-conditional#functions-coalesce-nvl-ifnull), которая заменит `null` на значение, которое мы передадим. Например, посмотрите, что возвращает запрос `select 1 + coalesce(null, 0)`\n",
    "\n",
    "    Выясните, на какую зарплату в среднем может рассчитывать дата-сайентист с опытом работы от 3 до 6 лет. Результат округлите до **целого числа**."
   ]
  },
  {
   "cell_type": "code",
   "execution_count": 83,
   "id": "6a743d39-5204-48d3-8271-b9f88e68d40e",
   "metadata": {
    "id": "6a743d39-5204-48d3-8271-b9f88e68d40e"
   },
   "outputs": [],
   "source": [
    "# текст запроса\n",
    "query_6_6 = f'''\n",
    "SELECT \n",
    "    experience, \n",
    "    ROUND(AVG(calculated_salary)) AS average_salary  -- Вычислить среднюю зарплату, округлить результат\n",
    "FROM (\n",
    "    SELECT \n",
    "        experience,  \n",
    "        CASE\n",
    "            WHEN COALESCE(salary_from,0) <> 0 AND COALESCE(salary_to,0) <> 0 \n",
    "                THEN (COALESCE(salary_from,0) + COALESCE(salary_to,0)) / 2  -- Если указаны и salary_from и salary_to, вычислить среднее\n",
    "            WHEN COALESCE(salary_from,0) <> 0 \n",
    "                THEN COALESCE(salary_from,0)  -- Если указан только salary_from, использовать его\n",
    "            WHEN COALESCE(salary_to,0) <> 0 \n",
    "                THEN COALESCE(salary_to,0)  -- Если указан только salary_to, использовать его\n",
    "            ELSE \n",
    "                0  -- Если ни salary_from, ни salary_to не указаны, использовать 0\n",
    "        END AS calculated_salary  -- Вычисляемое значение зарплаты\n",
    "    FROM vacancies\n",
    "    WHERE (\n",
    "        /* Условия для поиска вакансий в области Data Science и Machine Learning: */\n",
    "        LOWER(name) LIKE '%data scientist%' OR \n",
    "        LOWER(name) LIKE '%data science%' OR \n",
    "        LOWER(name) LIKE '%исследователь данных%' OR \n",
    "        (name LIKE '%ML%' AND name NOT LIKE '%HTML%') OR -- Исключаем вакансии, связанные с HTML\n",
    "        LOWER(name) LIKE '%machine learning%' OR \n",
    "        LOWER(name) LIKE '%машинн%обучен%' \n",
    "    )\n",
    "    AND (COALESCE(salary_from,0) <> 0 OR COALESCE(salary_to,0)<>0)  -- Отфильтровать вакансии, где указана хотя бы одна из зарплат\n",
    ") AS salaries  -- Внутренний запрос для вычисления calculated_salary\n",
    "\n",
    "GROUP BY experience  -- Группировать результаты по уровню опыта\n",
    "ORDER BY average_salary DESC;  -- Сортировать по средней зарплате по убыванию\n",
    "'''\n",
    "\n",
    "df_6_6 = pd.read_sql_query(query_6_6, connection)\n",
    "\n"
   ]
  },
  {
   "cell_type": "code",
   "execution_count": 84,
   "id": "aRIJ0mZEwU1_",
   "metadata": {
    "id": "aRIJ0mZEwU1_"
   },
   "outputs": [
    {
     "name": "stdout",
     "output_type": "stream",
     "text": [
      "           experience  average_salary\n",
      "0       От 3 до 6 лет        243115.0\n",
      "1  От 1 года до 3 лет        139675.0\n",
      "2           Нет опыта         74643.0\n"
     ]
    }
   ],
   "source": [
    "# результат запроса\n",
    "print(df_6_6)"
   ]
  },
  {
   "cell_type": "markdown",
   "id": "6a7892b4-4113-4746-adce-18aa2844f18e",
   "metadata": {
    "id": "6a7892b4-4113-4746-adce-18aa2844f18e"
   },
   "source": [
    "***"
   ]
  },
  {
   "cell_type": "markdown",
   "id": "fddd424f-3160-43ee-aa7d-41dae00e7416",
   "metadata": {
    "id": "UjLWUptVwY1o"
   },
   "source": [
    "### Выводы по предметному анализу\n",
    "1. Выявлено, сколько вакансий имеет отношение к данным  - 1771\n",
    "2. Выявлено, сколько есть подходящих вакансий для начинающего дата-сайентиста - 51\n",
    "3. Выявлено, сколько есть вакансий для DS, в которых в качестве ключевого навыка указан SQL или Postgres - 201\n",
    "4. Вычислено количество вакансий, в которых в качестве ключевого навыка указан Python -351\n",
    "5. Выявлено, сколько ключевых навыков в среднем указывают в вакансиях для DS  - 6.41\n",
    "6. Выявлено,  какую зарплату для DS в среднем указывают для каждого типа требуемого опыта\n",
    "\n",
    "\n",
    "Нужно заметить, что  найденное количество вакансий, имеющих отношение к данным, приблизительное, в часть запросов попали профессии с упоминаем QML, TeamLead. Ьыли использованы два варианта фильтрации:\n",
    " - (LOWER(name) LIKE '%ml%' AND LOWER(name) NOT LIKE '%html%')\n",
    " - (name LIKE '%ML%' AND name NOT LIKE '%HTML%')"
   ]
  },
  {
   "cell_type": "markdown",
   "id": "6f69e2f1-8866-430c-bf5c-7ab994510cf3",
   "metadata": {},
   "source": [
    "## Дополнительные исследования"
   ]
  },
  {
   "cell_type": "code",
   "execution_count": 88,
   "id": "e7d3d23c-d390-4833-b4bd-d6e2f196d697",
   "metadata": {},
   "outputs": [],
   "source": [
    "### наиболее распространенныt профессии"
   ]
  },
  {
   "cell_type": "code",
   "execution_count": 89,
   "id": "6631f864-a8fd-4c22-a21e-a9e9a218e891",
   "metadata": {},
   "outputs": [
    {
     "data": {
      "text/html": [
       "<div>\n",
       "<style scoped>\n",
       "    .dataframe tbody tr th:only-of-type {\n",
       "        vertical-align: middle;\n",
       "    }\n",
       "\n",
       "    .dataframe tbody tr th {\n",
       "        vertical-align: top;\n",
       "    }\n",
       "\n",
       "    .dataframe thead th {\n",
       "        text-align: right;\n",
       "    }\n",
       "</style>\n",
       "<table border=\"1\" class=\"dataframe\">\n",
       "  <thead>\n",
       "    <tr style=\"text-align: right;\">\n",
       "      <th></th>\n",
       "      <th>vacancy_name</th>\n",
       "      <th>count</th>\n",
       "    </tr>\n",
       "  </thead>\n",
       "  <tbody>\n",
       "    <tr>\n",
       "      <th>0</th>\n",
       "      <td>Системный администратор</td>\n",
       "      <td>1761</td>\n",
       "    </tr>\n",
       "    <tr>\n",
       "      <th>1</th>\n",
       "      <td>Программист 1С</td>\n",
       "      <td>1153</td>\n",
       "    </tr>\n",
       "    <tr>\n",
       "      <th>2</th>\n",
       "      <td>Бизнес-аналитик</td>\n",
       "      <td>488</td>\n",
       "    </tr>\n",
       "    <tr>\n",
       "      <th>3</th>\n",
       "      <td>Специалист технической поддержки</td>\n",
       "      <td>457</td>\n",
       "    </tr>\n",
       "    <tr>\n",
       "      <th>4</th>\n",
       "      <td>Системный аналитик</td>\n",
       "      <td>432</td>\n",
       "    </tr>\n",
       "    <tr>\n",
       "      <th>...</th>\n",
       "      <td>...</td>\n",
       "      <td>...</td>\n",
       "    </tr>\n",
       "    <tr>\n",
       "      <th>21218</th>\n",
       "      <td>Генеральный менеджер Проекта</td>\n",
       "      <td>1</td>\n",
       "    </tr>\n",
       "    <tr>\n",
       "      <th>21219</th>\n",
       "      <td>Ведущий инженер-программист (1С:УПП)</td>\n",
       "      <td>1</td>\n",
       "    </tr>\n",
       "    <tr>\n",
       "      <th>21220</th>\n",
       "      <td>Главный специалист IT направления</td>\n",
       "      <td>1</td>\n",
       "    </tr>\n",
       "    <tr>\n",
       "      <th>21221</th>\n",
       "      <td>Сотрудник Отдела информационных систем</td>\n",
       "      <td>1</td>\n",
       "    </tr>\n",
       "    <tr>\n",
       "      <th>21222</th>\n",
       "      <td>Старший финансовый менеджер</td>\n",
       "      <td>1</td>\n",
       "    </tr>\n",
       "  </tbody>\n",
       "</table>\n",
       "<p>21223 rows × 2 columns</p>\n",
       "</div>"
      ],
      "text/plain": [
       "                                 vacancy_name  count\n",
       "0                     Системный администратор   1761\n",
       "1                              Программист 1С   1153\n",
       "2                             Бизнес-аналитик    488\n",
       "3            Специалист технической поддержки    457\n",
       "4                          Системный аналитик    432\n",
       "...                                       ...    ...\n",
       "21218            Генеральный менеджер Проекта      1\n",
       "21219    Ведущий инженер-программист (1С:УПП)      1\n",
       "21220       Главный специалист IT направления      1\n",
       "21221  Сотрудник Отдела информационных систем      1\n",
       "21222             Старший финансовый менеджер      1\n",
       "\n",
       "[21223 rows x 2 columns]"
      ]
     },
     "execution_count": 89,
     "metadata": {},
     "output_type": "execute_result"
    }
   ],
   "source": [
    "query_7_1 = f'''\n",
    "SELECT\n",
    "    v.name AS vacancy_name,\n",
    "    COUNT(*) AS count\n",
    "FROM\n",
    "    vacancies v\n",
    "GROUP BY\n",
    "    v.name\n",
    "ORDER BY count DESC;\n",
    "'''\n",
    "df_7_1 = pd.read_sql_query(query_7_1, connection)\n",
    "df_7_1"
   ]
  },
  {
   "cell_type": "code",
   "execution_count": 90,
   "id": "d373b026-b398-4fc1-87f7-5c3f99efbe72",
   "metadata": {},
   "outputs": [],
   "source": [
    "### наиболее распространенные ключевые навыки"
   ]
  },
  {
   "cell_type": "code",
   "execution_count": 91,
   "id": "680eda9c-bd22-4b4d-a7f6-3ce48d948a18",
   "metadata": {},
   "outputs": [
    {
     "data": {
      "text/html": [
       "<div>\n",
       "<style scoped>\n",
       "    .dataframe tbody tr th:only-of-type {\n",
       "        vertical-align: middle;\n",
       "    }\n",
       "\n",
       "    .dataframe tbody tr th {\n",
       "        vertical-align: top;\n",
       "    }\n",
       "\n",
       "    .dataframe thead th {\n",
       "        text-align: right;\n",
       "    }\n",
       "</style>\n",
       "<table border=\"1\" class=\"dataframe\">\n",
       "  <thead>\n",
       "    <tr style=\"text-align: right;\">\n",
       "      <th></th>\n",
       "      <th>skill</th>\n",
       "      <th>count</th>\n",
       "    </tr>\n",
       "  </thead>\n",
       "  <tbody>\n",
       "    <tr>\n",
       "      <th>0</th>\n",
       "      <td>SQL</td>\n",
       "      <td>6977</td>\n",
       "    </tr>\n",
       "    <tr>\n",
       "      <th>1</th>\n",
       "      <td>Git</td>\n",
       "      <td>4731</td>\n",
       "    </tr>\n",
       "    <tr>\n",
       "      <th>2</th>\n",
       "      <td>Английский язык</td>\n",
       "      <td>4525</td>\n",
       "    </tr>\n",
       "    <tr>\n",
       "      <th>3</th>\n",
       "      <td>Работа в команде</td>\n",
       "      <td>3923</td>\n",
       "    </tr>\n",
       "    <tr>\n",
       "      <th>4</th>\n",
       "      <td>Linux</td>\n",
       "      <td>3747</td>\n",
       "    </tr>\n",
       "    <tr>\n",
       "      <th>...</th>\n",
       "      <td>...</td>\n",
       "      <td>...</td>\n",
       "    </tr>\n",
       "    <tr>\n",
       "      <th>11376</th>\n",
       "      <td>автоматическое тестирование</td>\n",
       "      <td>1</td>\n",
       "    </tr>\n",
       "    <tr>\n",
       "      <th>11377</th>\n",
       "      <td>ISO/IEC 27001</td>\n",
       "      <td>1</td>\n",
       "    </tr>\n",
       "    <tr>\n",
       "      <th>11378</th>\n",
       "      <td>Автомобильные кредиты</td>\n",
       "      <td>1</td>\n",
       "    </tr>\n",
       "    <tr>\n",
       "      <th>11379</th>\n",
       "      <td>iso 27001</td>\n",
       "      <td>1</td>\n",
       "    </tr>\n",
       "    <tr>\n",
       "      <th>11380</th>\n",
       "      <td>Автомобильный бизнес</td>\n",
       "      <td>1</td>\n",
       "    </tr>\n",
       "  </tbody>\n",
       "</table>\n",
       "<p>11381 rows × 2 columns</p>\n",
       "</div>"
      ],
      "text/plain": [
       "                             skill  count\n",
       "0                              SQL   6977\n",
       "1                              Git   4731\n",
       "2                  Английский язык   4525\n",
       "3                 Работа в команде   3923\n",
       "4                            Linux   3747\n",
       "...                            ...    ...\n",
       "11376  автоматическое тестирование      1\n",
       "11377                ISO/IEC 27001      1\n",
       "11378        Автомобильные кредиты      1\n",
       "11379                    iso 27001      1\n",
       "11380         Автомобильный бизнес      1\n",
       "\n",
       "[11381 rows x 2 columns]"
      ]
     },
     "execution_count": 91,
     "metadata": {},
     "output_type": "execute_result"
    }
   ],
   "source": [
    "query_7_2 = f'''\n",
    "SELECT\n",
    "    unnest(string_to_array(key_skills, CHR(9))) AS skill,\n",
    "    COUNT(*) AS count\n",
    "FROM\n",
    "    vacancies\n",
    "GROUP BY\n",
    "    skill\n",
    "ORDER BY\n",
    "    count DESC;\n",
    "'''\n",
    "df_7_2 = pd.read_sql_query(query_7_2, connection)\n",
    "df_7_2"
   ]
  },
  {
   "cell_type": "code",
   "execution_count": null,
   "id": "f01076db-d0d5-4a55-b5b9-6f3d3a78bfe1",
   "metadata": {},
   "outputs": [],
   "source": []
  },
  {
   "attachments": {},
   "cell_type": "markdown",
   "id": "5f48ed45-955e-4854-ab66-4d142fef62e3",
   "metadata": {
    "id": "c0ED6fh7wiBT"
   },
   "source": [
    "## Общий вывод по проекту\n",
    "\n",
    "Кроме промежуточных выаодов, добавлю пару глобальных результатов\n",
    "1. Топ-10 наиболее распространенных профессий:\n",
    "    Системный администратор, Программист 1С, Бизнес-аналитик, Специалист технической поддержки, Системный аналитик\n",
    "2. Топ-5 наиболее распространенных ключевые навыков:\n",
    "    SQL, Git, Английский язык, Работа в команде, Linux\n",
    "\n",
    "Для дальнейшего анализа данных добавлены графики.\n",
    "    \n",
    "Также аредлагается провести дальнейший анализ и выявить:\n",
    "- Влияние размера компании на зарплату: Если есть информация о размере компании, можно сравнить средние зарплаты в крупных и небольших компаниях.\n",
    "- Тренды на рынке труда: С помощью исторических данных можно отслеживать изменения в спросе на различные профессии и навыки.\n",
    "\n"
   ]
  },
  {
   "cell_type": "code",
   "execution_count": 93,
   "id": "48019ad9-4ead-423c-8bef-9a886da763c1",
   "metadata": {
    "id": "h9B3BL-wwj18"
   },
   "outputs": [],
   "source": [
    "import matplotlib.pyplot as plt\n",
    "import seaborn as sns"
   ]
  },
  {
   "cell_type": "markdown",
   "id": "41914516-113e-4100-a3c3-3cba9e088f74",
   "metadata": {},
   "source": [
    "#### Топ-20 профессий по количеству вакансий"
   ]
  },
  {
   "cell_type": "code",
   "execution_count": 166,
   "id": "89f81a93-f9d1-4842-91d6-66c95bc07e01",
   "metadata": {},
   "outputs": [
    {
     "data": {
      "image/png": "[encoded data removed]",
      "text/plain": [
       "<Figure size 1000x700 with 1 Axes>"
      ]
     },
     "metadata": {},
     "output_type": "display_data"
    }
   ],
   "source": [
    "top_20_vacancynames = df_7_1.nlargest(20, columns=['count'])\n",
    "\n",
    "plt.figure(figsize=(10, 7))\n",
    "sns.barplot(x='vacancy_name', y='count', data=top_20_vacancynames, palette=\"Blues_d\")\n",
    "plt.xlabel('Профессия', fontsize=14)\n",
    "plt.ylabel('Количество вакансий', fontsize=14)\n",
    "plt.title('Топ-20 профессий по количеству вакансий', fontsize=16)\n",
    "plt.xticks(rotation=90, ha='right')\n",
    "\n",
    "plt.show()"
   ]
  },
  {
   "cell_type": "markdown",
   "id": "4ba15e5f-d04b-4292-8fb4-257092022c75",
   "metadata": {},
   "source": [
    "#### Топ-20 ключевых навыков по количеству упоминаний"
   ]
  },
  {
   "cell_type": "code",
   "execution_count": 169,
   "id": "d6645775-0e28-4d8d-80e1-a4ee284afe88",
   "metadata": {},
   "outputs": [
    {
     "data": {
      "image/png": "[encoded data removed]",
      "text/plain": [
       "<Figure size 1000x700 with 1 Axes>"
      ]
     },
     "metadata": {},
     "output_type": "display_data"
    }
   ],
   "source": [
    "top_20_skills = df_7_2.nlargest(20, columns=['count'])\n",
    "\n",
    "plt.figure(figsize=(10, 7))\n",
    "sns.barplot(x='skill', y='count', data=top_20_skills, palette=\"Blues_d\")\n",
    "plt.xlabel('Ключевой навык', fontsize=14)\n",
    "plt.ylabel('Количество упоминаний', fontsize=14)\n",
    "plt.title('Топ-20 ключевых навыков по количеству упоминаний', fontsize=16)\n",
    "plt.xticks(rotation=90, ha='right')\n",
    "\n",
    "plt.show()"
   ]
  },
  {
   "cell_type": "markdown",
   "id": "68cbcb84-5da3-408e-9716-3788d0a3dfe0",
   "metadata": {
    "id": "h9B3BL-wwj18"
   },
   "source": [
    "#### Топ-20 областей по количеству вакансий"
   ]
  },
  {
   "cell_type": "code",
   "execution_count": 95,
   "id": "a4e19bf6-259a-407b-bf43-ac95935f2166",
   "metadata": {
    "id": "h9B3BL-wwj18"
   },
   "outputs": [
    {
     "data": {
      "image/png": "[encoded data removed]",
      "text/plain": [
       "<Figure size 1000x700 with 1 Axes>"
      ]
     },
     "metadata": {},
     "output_type": "display_data"
    }
   ],
   "source": [
    "top_20_areas = df_4_1.nlargest(20, columns=['cnt'])\n",
    "\n",
    "plt.figure(figsize=(10, 7))\n",
    "sns.barplot(x='area', y='cnt', data=top_20_areas, palette=\"Blues_d\")\n",
    "plt.xlabel('Области', fontsize=14)\n",
    "plt.ylabel('Количество вакансий', fontsize=14)\n",
    "plt.title('Топ-20 областей по количеству вакансий', fontsize=16)\n",
    "plt.xticks(rotation=90, ha='right')\n",
    "\n",
    "plt.show()"
   ]
  },
  {
   "cell_type": "markdown",
   "id": "2264ef98-760b-4ac3-9d91-64762f414399",
   "metadata": {},
   "source": [
    "#### Распределение  средних зарплат"
   ]
  },
  {
   "cell_type": "code",
   "execution_count": 97,
   "id": "cab9f573-1ba3-47ff-ab4c-dd44db3166c2",
   "metadata": {},
   "outputs": [
    {
     "data": {
      "image/png": "[encoded data removed]",
      "text/plain": [
       "<Figure size 640x480 with 1 Axes>"
      ]
     },
     "metadata": {},
     "output_type": "display_data"
    }
   ],
   "source": [
    "query = f'''\n",
    "SELECT salary_from, salary_to\n",
    "FROM vacancies\n",
    "WHERE salary_from IS NOT NULL OR salary_to IS NOT NULL;\n",
    "'''\n",
    "df = pd.read_sql_query(query, connection)\n",
    "df['avg_salary'] = (df['salary_from'].fillna(0) + df['salary_to'].fillna(0)) / 2\n",
    "\n",
    "# Построение графика распределения средних зарплат\n",
    "fig, ax = plt.subplots()\n",
    "ax.hist(df['avg_salary'], bins=100)\n",
    "ax.set_xlabel('Средняя зарплата')\n",
    "ax.set_ylabel('Частота')\n",
    "ax.set_title('Распределение средних зарплат')\n",
    "\n",
    "plt.tight_layout()\n",
    "plt.show()"
   ]
  },
  {
   "cell_type": "markdown",
   "id": "9af9b2e0-a4dd-45f2-bd48-596007080ccf",
   "metadata": {},
   "source": [
    "#### Топ-20 работодателей по количеству вакансий"
   ]
  },
  {
   "cell_type": "code",
   "execution_count": 99,
   "id": "315602e5-8c9d-407c-a3d6-7f852380c234",
   "metadata": {},
   "outputs": [
    {
     "data": {
      "image/png": "[encoded data removed]",
      "text/plain": [
       "<Figure size 1000x700 with 1 Axes>"
      ]
     },
     "metadata": {},
     "output_type": "display_data"
    }
   ],
   "source": [
    "top_20_areas = df_5_1.nlargest(20, columns=['num_vacancies'])\n",
    "\n",
    "plt.figure(figsize=(10, 7))\n",
    "sns.barplot(x='name', y='num_vacancies', data=top_20_areas, palette=\"Blues_d\")\n",
    "plt.xlabel('Работодатели', fontsize=14)\n",
    "plt.ylabel('Количество вакансий', fontsize=14)\n",
    "plt.title('Топ-20 работодателей по количеству вакансий', fontsize=16)\n",
    "plt.xticks(rotation=90, ha='right')\n",
    "\n",
    "plt.show()"
   ]
  },
  {
   "cell_type": "markdown",
   "id": "2e898852-3272-4b52-af11-c106c86a302a",
   "metadata": {},
   "source": [
    "#### Количество вакансий компании «Яндекс» по городам-миллионикам"
   ]
  },
  {
   "cell_type": "code",
   "execution_count": 101,
   "id": "fb4e740a-6cb6-4825-aad9-2f8c522922b0",
   "metadata": {},
   "outputs": [
    {
     "data": {
      "image/png": "[encoded data removed]",
      "text/plain": [
       "<Figure size 1000x600 with 1 Axes>"
      ]
     },
     "metadata": {},
     "output_type": "display_data"
    }
   ],
   "source": [
    "df_5_7_filtered = df_5_7[df_5_7['city'] != 'Total']\n",
    "\n",
    "plt.figure(figsize=(10, 6))\n",
    "plt.bar(df_5_7_filtered['city'], df_5_7_filtered['vacancy_count'])\n",
    "plt.xlabel('Город')\n",
    "plt.ylabel('Количество вакансий компании «Яндекс» ')\n",
    "plt.title('Количество вакансий компании «Яндекс» по городам-миллионникам')\n",
    "plt.xticks(rotation=90)  # Поворот меток городов для лучшей читаемости\n",
    "plt.show()"
   ]
  },
  {
   "cell_type": "code",
   "execution_count": 102,
   "id": "9d260ba5-7f41-49ef-afe1-4827bd00f260",
   "metadata": {},
   "outputs": [],
   "source": [
    "connection.close()"
   ]
  }
 ],
 "metadata": {
  "colab": {
   "collapsed_sections": [
    "8d62a9f3-f64e-4fe7-bdac-c4dffa16155e"
   ],
   "provenance": []
  },
  "kernelspec": {
   "display_name": "Python 3 (ipykernel)",
   "language": "python",
   "name": "python3"
  },
  "language_info": {
   "codemirror_mode": {
    "name": "ipython",
    "version": 3
   },
   "file_extension": ".py",
   "mimetype": "text/x-python",
   "name": "python",
   "nbconvert_exporter": "python",
   "pygments_lexer": "ipython3",
   "version": "3.12.3"
  }
 },
 "nbformat": 4,
 "nbformat_minor": 5
}
